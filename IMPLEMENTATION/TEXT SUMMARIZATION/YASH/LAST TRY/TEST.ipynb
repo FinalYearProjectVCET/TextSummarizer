{
 "cells": [
  {
   "cell_type": "markdown",
   "id": "4160deda",
   "metadata": {},
   "source": [
    "# ONE HOT ENCODING"
   ]
  },
  {
   "cell_type": "code",
   "execution_count": 1,
   "id": "cfffc1d0",
   "metadata": {},
   "outputs": [],
   "source": [
    "from tensorflow.keras.preprocessing.text import one_hot"
   ]
  },
  {
   "cell_type": "code",
   "execution_count": 2,
   "id": "86c8146f",
   "metadata": {},
   "outputs": [],
   "source": [
    "docs = ['glass of orange juice',\n",
    "       'bottle of mango juice',\n",
    "       'glass of mango juice',\n",
    "       'drink bottle of banana shake',\n",
    "       'I want a glass of cold water',\n",
    "       'The king and the queen',\n",
    "       'man and woman']"
   ]
  },
  {
   "cell_type": "code",
   "execution_count": 3,
   "id": "7d1c99b5",
   "metadata": {},
   "outputs": [],
   "source": [
    "vocab_size = 10000"
   ]
  },
  {
   "cell_type": "code",
   "execution_count": 4,
   "id": "df379b98",
   "metadata": {},
   "outputs": [
    {
     "name": "stdout",
     "output_type": "stream",
     "text": [
      "[[2049, 1868, 3760, 9302], [9126, 1868, 6515, 9302], [2049, 1868, 6515, 9302], [8776, 9126, 1868, 4595, 7898], [8647, 6492, 8187, 2049, 1868, 810, 2748], [1817, 6740, 1896, 1817, 7800], [2716, 1896, 6369]]\n"
     ]
    }
   ],
   "source": [
    "encoded_docs = [one_hot(d, vocab_size) for d in docs]\n",
    "print(encoded_docs)"
   ]
  },
  {
   "cell_type": "markdown",
   "id": "3027851a",
   "metadata": {},
   "source": [
    "# WORD EMBEDDINGS"
   ]
  },
  {
   "cell_type": "code",
   "execution_count": 5,
   "id": "c8c50970",
   "metadata": {},
   "outputs": [],
   "source": [
    "from tensorflow.keras.preprocessing.sequence import pad_sequences\n",
    "from tensorflow.keras.models import Sequential\n",
    "from tensorflow.keras.layers import Input, InputLayer, Embedding, Bidirectional, LSTM, Dense\n",
    "\n",
    "import numpy as np"
   ]
  },
  {
   "cell_type": "code",
   "execution_count": 6,
   "id": "481a7364",
   "metadata": {},
   "outputs": [
    {
     "name": "stdout",
     "output_type": "stream",
     "text": [
      "[[2049 1868 3760 9302    0    0    0    0    0    0]\n",
      " [9126 1868 6515 9302    0    0    0    0    0    0]\n",
      " [2049 1868 6515 9302    0    0    0    0    0    0]\n",
      " [8776 9126 1868 4595 7898    0    0    0    0    0]\n",
      " [8647 6492 8187 2049 1868  810 2748    0    0    0]\n",
      " [1817 6740 1896 1817 7800    0    0    0    0    0]\n",
      " [2716 1896 6369    0    0    0    0    0    0    0]]\n"
     ]
    }
   ],
   "source": [
    "embedding_length = 5\n",
    "max_doc_len = 10\n",
    "\n",
    "pad_encoded_docs = pad_sequences(encoded_docs, truncating = 'post', padding = 'post', maxlen = max_doc_len)\n",
    "\n",
    "print(pad_encoded_docs)"
   ]
  },
  {
   "cell_type": "code",
   "execution_count": 7,
   "id": "441ed2c7",
   "metadata": {
    "scrolled": true
   },
   "outputs": [
    {
     "name": "stdout",
     "output_type": "stream",
     "text": [
      "WARNING:tensorflow:Please add `keras.layers.InputLayer` instead of `keras.Input` to Sequential model. `keras.Input` is intended to be used by Functional model.\n"
     ]
    }
   ],
   "source": [
    "model = Sequential()\n",
    "\n",
    "model.add(Input(shape=(max_doc_len,)))\n",
    "model.add(Embedding(vocab_size, embedding_length, input_length = max_doc_len))\n",
    "model.add(Bidirectional(LSTM(units = 64, return_sequences = True)))\n",
    "model.add(LSTM(100))\n",
    "model.add(Dense(5, activation = 'softmax'))\n",
    "\n",
    "model.compile(loss = 'categorical_crossentropy', optimizer = 'adam', metrics = ['accuracy'])"
   ]
  },
  {
   "cell_type": "code",
   "execution_count": 8,
   "id": "5aba4364",
   "metadata": {},
   "outputs": [
    {
     "name": "stdout",
     "output_type": "stream",
     "text": [
      "Model: \"sequential\"\n",
      "_________________________________________________________________\n",
      "Layer (type)                 Output Shape              Param #   \n",
      "=================================================================\n",
      "embedding (Embedding)        (None, 10, 5)             50000     \n",
      "_________________________________________________________________\n",
      "bidirectional (Bidirectional (None, 10, 128)           35840     \n",
      "_________________________________________________________________\n",
      "lstm_1 (LSTM)                (None, 100)               91600     \n",
      "_________________________________________________________________\n",
      "dense (Dense)                (None, 5)                 505       \n",
      "=================================================================\n",
      "Total params: 177,945\n",
      "Trainable params: 177,945\n",
      "Non-trainable params: 0\n",
      "_________________________________________________________________\n"
     ]
    }
   ],
   "source": [
    "# model.fit()\n",
    "model.summary()"
   ]
  },
  {
   "cell_type": "code",
   "execution_count": 11,
   "id": "4cfb976a",
   "metadata": {},
   "outputs": [
    {
     "data": {
      "text/plain": [
       "(7, 10)"
      ]
     },
     "execution_count": 11,
     "metadata": {},
     "output_type": "execute_result"
    }
   ],
   "source": [
    "pad_encoded_docs.shape"
   ]
  },
  {
   "cell_type": "code",
   "execution_count": 12,
   "id": "c8eb53db",
   "metadata": {},
   "outputs": [
    {
     "data": {
      "text/plain": [
       "array([[2049, 1868, 3760, 9302,    0,    0,    0,    0,    0,    0],\n",
       "       [9126, 1868, 6515, 9302,    0,    0,    0,    0,    0,    0],\n",
       "       [2049, 1868, 6515, 9302,    0,    0,    0,    0,    0,    0],\n",
       "       [8776, 9126, 1868, 4595, 7898,    0,    0,    0,    0,    0],\n",
       "       [8647, 6492, 8187, 2049, 1868,  810, 2748,    0,    0,    0],\n",
       "       [1817, 6740, 1896, 1817, 7800,    0,    0,    0,    0,    0],\n",
       "       [2716, 1896, 6369,    0,    0,    0,    0,    0,    0,    0]])"
      ]
     },
     "execution_count": 12,
     "metadata": {},
     "output_type": "execute_result"
    }
   ],
   "source": [
    "pad_encoded_docs"
   ]
  },
  {
   "cell_type": "code",
   "execution_count": 10,
   "id": "182047f8",
   "metadata": {},
   "outputs": [
    {
     "data": {
      "text/plain": [
       "array([[0.19999623, 0.19958383, 0.20013404, 0.1995562 , 0.20072965],\n",
       "       [0.20005645, 0.19950429, 0.20008186, 0.19962567, 0.2007317 ],\n",
       "       [0.20000744, 0.19956036, 0.20002045, 0.19962035, 0.2007914 ],\n",
       "       [0.20008624, 0.19948606, 0.20032817, 0.1995429 , 0.20055664],\n",
       "       [0.20015542, 0.19984493, 0.2001458 , 0.19967352, 0.20018037],\n",
       "       [0.19984193, 0.1996233 , 0.20010845, 0.19953312, 0.20089321],\n",
       "       [0.20001295, 0.19954999, 0.20012335, 0.19957848, 0.20073523]],\n",
       "      dtype=float32)"
      ]
     },
     "execution_count": 10,
     "metadata": {},
     "output_type": "execute_result"
    }
   ],
   "source": [
    "model.predict(pad_encoded_docs)\n",
    "# print(output.shape)\n",
    "# print(output)"
   ]
  }
 ],
 "metadata": {
  "kernelspec": {
   "display_name": "Python 3 (ipykernel)",
   "language": "python",
   "name": "python3"
  },
  "language_info": {
   "codemirror_mode": {
    "name": "ipython",
    "version": 3
   },
   "file_extension": ".py",
   "mimetype": "text/x-python",
   "name": "python",
   "nbconvert_exporter": "python",
   "pygments_lexer": "ipython3",
   "version": "3.9.5"
  }
 },
 "nbformat": 4,
 "nbformat_minor": 5
}
