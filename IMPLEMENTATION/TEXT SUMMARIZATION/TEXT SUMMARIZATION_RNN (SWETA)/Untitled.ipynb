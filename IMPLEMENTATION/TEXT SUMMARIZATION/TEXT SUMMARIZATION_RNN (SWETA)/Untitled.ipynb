{
 "cells": [
  {
   "cell_type": "code",
   "execution_count": 1,
   "id": "faf7f62a",
   "metadata": {},
   "outputs": [],
   "source": [
    "from tensorflow.keras.preprocessing.text import Tokenizer\n",
    "from tensorflow.keras.preprocessing.sequence import pad_sequences"
   ]
  },
  {
   "cell_type": "code",
   "execution_count": 2,
   "id": "8b4d09b4",
   "metadata": {},
   "outputs": [],
   "source": [
    "sentences = [\n",
    "    'So my brothers',\n",
    "    'So my sisters',\n",
    "    'Neel and Shweta are retard brothers and sisters.'    \n",
    "]\n",
    "\n",
    "sentences_try = [\n",
    "    'brother sister and retards hello'\n",
    "]"
   ]
  },
  {
   "cell_type": "code",
   "execution_count": 3,
   "id": "e1f4f54b",
   "metadata": {},
   "outputs": [
    {
     "data": {
      "text/plain": [
       "{'<UNK>': 1,\n",
       " 'so': 2,\n",
       " 'my': 3,\n",
       " 'brothers': 4,\n",
       " 'sisters': 5,\n",
       " 'and': 6,\n",
       " 'neel': 7,\n",
       " 'shweta': 8,\n",
       " 'are': 9,\n",
       " 'retard': 10}"
      ]
     },
     "execution_count": 3,
     "metadata": {},
     "output_type": "execute_result"
    }
   ],
   "source": [
    "stk = Tokenizer(oov_token='<UNK>')\n",
    "stk.fit_on_texts(sentences)\n",
    "stk.word_index"
   ]
  },
  {
   "cell_type": "code",
   "execution_count": 4,
   "id": "0c479214",
   "metadata": {},
   "outputs": [
    {
     "name": "stdout",
     "output_type": "stream",
     "text": [
      "11\n"
     ]
    }
   ],
   "source": [
    "art_vocab_size = len(stk.word_index)+1\n",
    "print(art_vocab_size)"
   ]
  },
  {
   "cell_type": "code",
   "execution_count": 5,
   "id": "3a9291bb",
   "metadata": {},
   "outputs": [
    {
     "data": {
      "text/plain": [
       "[[2, 3, 4], [2, 3, 5], [7, 6, 8, 9, 10, 4, 6, 5]]"
      ]
     },
     "execution_count": 5,
     "metadata": {},
     "output_type": "execute_result"
    }
   ],
   "source": [
    "tokenized_sentences = stk.texts_to_sequences(sentences)\n",
    "tokenized_sentences"
   ]
  },
  {
   "cell_type": "code",
   "execution_count": 6,
   "id": "920ac597",
   "metadata": {},
   "outputs": [
    {
     "data": {
      "text/plain": [
       "array([[ 0,  0,  0,  0,  0,  0,  0,  2,  3,  4],\n",
       "       [ 0,  0,  0,  0,  0,  0,  0,  2,  3,  5],\n",
       "       [ 0,  0,  7,  6,  8,  9, 10,  4,  6,  5]])"
      ]
     },
     "execution_count": 6,
     "metadata": {},
     "output_type": "execute_result"
    }
   ],
   "source": [
    "padded_tokenized_sentences = pad_sequences(tokenized_sentences,maxlen=10,padding='pre',truncating='post')\n",
    "padded_tokenized_sentences"
   ]
  },
  {
   "cell_type": "code",
   "execution_count": 7,
   "id": "d8760925",
   "metadata": {},
   "outputs": [
    {
     "name": "stdout",
     "output_type": "stream",
     "text": [
      "(3, 10)\n"
     ]
    }
   ],
   "source": [
    "print(padded_tokenized_sentences.shape)"
   ]
  },
  {
   "cell_type": "code",
   "execution_count": 8,
   "id": "cf5d680c",
   "metadata": {
    "scrolled": true
   },
   "outputs": [
    {
     "data": {
      "text/plain": [
       "{1: '<UNK>',\n",
       " 2: 'so',\n",
       " 3: 'my',\n",
       " 4: 'brothers',\n",
       " 5: 'sisters',\n",
       " 6: 'and',\n",
       " 7: 'neel',\n",
       " 8: 'shweta',\n",
       " 9: 'are',\n",
       " 10: 'retard'}"
      ]
     },
     "execution_count": 8,
     "metadata": {},
     "output_type": "execute_result"
    }
   ],
   "source": [
    "stk.index_word"
   ]
  }
 ],
 "metadata": {
  "kernelspec": {
   "display_name": "Python 3 (ipykernel)",
   "language": "python",
   "name": "python3"
  },
  "language_info": {
   "codemirror_mode": {
    "name": "ipython",
    "version": 3
   },
   "file_extension": ".py",
   "mimetype": "text/x-python",
   "name": "python",
   "nbconvert_exporter": "python",
   "pygments_lexer": "ipython3",
   "version": "3.9.5"
  }
 },
 "nbformat": 4,
 "nbformat_minor": 5
}
