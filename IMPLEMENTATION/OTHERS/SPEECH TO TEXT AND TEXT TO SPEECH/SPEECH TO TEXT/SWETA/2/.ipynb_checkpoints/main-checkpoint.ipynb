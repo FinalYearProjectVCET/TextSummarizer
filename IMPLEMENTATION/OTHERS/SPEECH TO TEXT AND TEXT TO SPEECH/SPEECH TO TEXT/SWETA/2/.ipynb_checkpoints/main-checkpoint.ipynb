{
 "cells": [
  {
   "cell_type": "code",
   "execution_count": 5,
   "id": "56c3d2bd",
   "metadata": {},
   "outputs": [
    {
     "ename": "ModuleNotFoundError",
     "evalue": "No module named 'mp3towav'",
     "output_type": "error",
     "traceback": [
      "\u001b[1;31m---------------------------------------------------------------------------\u001b[0m",
      "\u001b[1;31mModuleNotFoundError\u001b[0m                       Traceback (most recent call last)",
      "\u001b[1;32m~\\AppData\\Local\\Temp/ipykernel_5212/1939443014.py\u001b[0m in \u001b[0;36m<module>\u001b[1;34m\u001b[0m\n\u001b[0;32m      1\u001b[0m \u001b[1;32mimport\u001b[0m \u001b[0msplitfile\u001b[0m\u001b[1;33m\u001b[0m\u001b[1;33m\u001b[0m\u001b[0m\n\u001b[1;32m----> 2\u001b[1;33m \u001b[1;32mimport\u001b[0m \u001b[0mmp3towav\u001b[0m\u001b[1;33m\u001b[0m\u001b[1;33m\u001b[0m\u001b[0m\n\u001b[0m\u001b[0;32m      3\u001b[0m \u001b[1;32mfrom\u001b[0m \u001b[0msplit_file\u001b[0m \u001b[1;32mimport\u001b[0m \u001b[1;33m*\u001b[0m\u001b[1;33m\u001b[0m\u001b[1;33m\u001b[0m\u001b[0m\n\u001b[0;32m      4\u001b[0m \u001b[1;32mimport\u001b[0m \u001b[0mspeech_recognition\u001b[0m \u001b[1;32mas\u001b[0m \u001b[0msr\u001b[0m\u001b[1;33m\u001b[0m\u001b[1;33m\u001b[0m\u001b[0m\n\u001b[0;32m      5\u001b[0m \u001b[1;32mimport\u001b[0m \u001b[0mos\u001b[0m\u001b[1;33m\u001b[0m\u001b[1;33m\u001b[0m\u001b[0m\n",
      "\u001b[1;31mModuleNotFoundError\u001b[0m: No module named 'mp3towav'"
     ]
    }
   ],
   "source": [
    "import splitfile\n",
    "import mp3towav\n",
    "from split_file import *\n",
    "import speech_recognition as sr\n",
    "import os\n",
    "\n",
    "\n",
    "for x in range(1,counter):\n",
    "    AUDIO_FILE = (\"Heartbreak Anniversary.wav\" % (x,)) \n",
    "    \n",
    "    # use the audio file as the audio source \n",
    "    \n",
    "    r = sr.Recognizer() \n",
    "    \n",
    "    with sr.AudioFile(AUDIO_FILE) as source: \n",
    "        #reads the audio file. Here we use record instead of \n",
    "        #listen \n",
    "        audio = r.record(source)   \n",
    "    result = r.recognize_google(audio)\n",
    "    try:\n",
    "        with open(\"outputs.txt\",\"a\") as f:\n",
    "            f.write(result+ '\\n') \n",
    "        print(\"%d. audio file is done.\" % (x,)) \n",
    "    \n",
    "    except sr.UnknownValueError: \n",
    "        print(\"Google Speech Recognition could not understand audio\") \n",
    "    \n",
    "    except sr.RequestError as e: \n",
    "        print(\"Could not request results from Google Speech Recognition service; {0}\".format(e)) \n",
    "\n",
    "\n",
    "for i in range(1,counter):\n",
    "    if os.path.exists(\"Heartbreak Anniversary.wav\" % (i,)):\n",
    "        os.remove(\"Heartbreak Anniversary.wav\" % (i,))\n",
    "    else:\n",
    "        print(\"The file does not exist\")\n",
    "print(\"Files are deleted.\")\n",
    "print(\"Process completed.\")"
   ]
  },
  {
   "cell_type": "code",
   "execution_count": null,
   "id": "a1de4701",
   "metadata": {},
   "outputs": [],
   "source": []
  }
 ],
 "metadata": {
  "kernelspec": {
   "display_name": "Python 3 (ipykernel)",
   "language": "python",
   "name": "python3"
  },
  "language_info": {
   "codemirror_mode": {
    "name": "ipython",
    "version": 3
   },
   "file_extension": ".py",
   "mimetype": "text/x-python",
   "name": "python",
   "nbconvert_exporter": "python",
   "pygments_lexer": "ipython3",
   "version": "3.9.5"
  }
 },
 "nbformat": 4,
 "nbformat_minor": 5
}
