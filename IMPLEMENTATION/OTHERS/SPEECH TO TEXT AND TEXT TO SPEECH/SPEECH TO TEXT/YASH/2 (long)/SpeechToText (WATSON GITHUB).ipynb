{
 "cells": [
  {
   "cell_type": "code",
   "execution_count": 2,
   "source": [
    "\r\n",
    "!pip install ibm_watson"
   ],
   "outputs": [
    {
     "output_type": "stream",
     "name": "stdout",
     "text": [
      "Requirement already satisfied: ibm_watson in c:\\users\\yash\\appdata\\local\\programs\\python\\python39\\lib\\site-packages (5.2.2)\n",
      "Requirement already satisfied: requests<3.0,>=2.0 in c:\\users\\yash\\appdata\\local\\programs\\python\\python39\\lib\\site-packages (from ibm_watson) (2.25.1)\n",
      "Requirement already satisfied: python-dateutil>=2.5.3 in c:\\users\\yash\\appdata\\local\\programs\\python\\python39\\lib\\site-packages (from ibm_watson) (2.8.1)\n",
      "Requirement already satisfied: ibm-cloud-sdk-core==3.*,>=3.3.6 in c:\\users\\yash\\appdata\\local\\programs\\python\\python39\\lib\\site-packages (from ibm_watson) (3.11.0)\n",
      "Requirement already satisfied: websocket-client==1.1.0 in c:\\users\\yash\\appdata\\local\\programs\\python\\python39\\lib\\site-packages (from ibm_watson) (1.1.0)\n",
      "Requirement already satisfied: PyJWT<3.0.0,>=2.0.1 in c:\\users\\yash\\appdata\\local\\programs\\python\\python39\\lib\\site-packages (from ibm-cloud-sdk-core==3.*,>=3.3.6->ibm_watson) (2.1.0)\n",
      "Requirement already satisfied: six>=1.5 in c:\\users\\yash\\appdata\\local\\programs\\python\\python39\\lib\\site-packages (from python-dateutil>=2.5.3->ibm_watson) (1.15.0)\n",
      "Requirement already satisfied: chardet<5,>=3.0.2 in c:\\users\\yash\\appdata\\local\\programs\\python\\python39\\lib\\site-packages (from requests<3.0,>=2.0->ibm_watson) (4.0.0)\n",
      "Requirement already satisfied: idna<3,>=2.5 in c:\\users\\yash\\appdata\\local\\programs\\python\\python39\\lib\\site-packages (from requests<3.0,>=2.0->ibm_watson) (2.10)\n",
      "Requirement already satisfied: certifi>=2017.4.17 in c:\\users\\yash\\appdata\\local\\programs\\python\\python39\\lib\\site-packages (from requests<3.0,>=2.0->ibm_watson) (2021.5.30)\n",
      "Requirement already satisfied: urllib3<1.27,>=1.21.1 in c:\\users\\yash\\appdata\\local\\programs\\python\\python39\\lib\\site-packages (from requests<3.0,>=2.0->ibm_watson) (1.26.6)\n"
     ]
    },
    {
     "output_type": "stream",
     "name": "stderr",
     "text": [
      "WARNING: You are using pip version 21.2.2; however, version 21.2.4 is available.\n",
      "You should consider upgrading via the 'C:\\Users\\Yash\\AppData\\Local\\Programs\\Python\\Python39\\python.exe -m pip install --upgrade pip' command.\n"
     ]
    }
   ],
   "metadata": {}
  },
  {
   "cell_type": "code",
   "execution_count": 3,
   "source": [
    "from ibm_watson import SpeechToTextV1\r\n",
    "from ibm_cloud_sdk_core.authenticators import IAMAuthenticator"
   ],
   "outputs": [],
   "metadata": {}
  },
  {
   "cell_type": "code",
   "execution_count": 4,
   "source": [
    "apikey = ''\r\n",
    "url = ''"
   ],
   "outputs": [],
   "metadata": {}
  },
  {
   "cell_type": "code",
   "execution_count": 5,
   "source": [
    "authenticator = IAMAuthenticator(apikey)\r\n",
    "stt = SpeechToTextV1(authenticator = authenticator)\r\n",
    "stt.set_service_url(url)"
   ],
   "outputs": [],
   "metadata": {}
  },
  {
   "cell_type": "code",
   "execution_count": 6,
   "source": [
    "\r\n",
    "import subprocess \r\n",
    "import os\r\n",
    "command = 'ffmpeg -i audio.wav -vn -ar 44100 -ac 2 -b:a 192k audio.mp3'\r\n",
    "subprocess.call(command, shell=True)\r\n",
    "command = 'ffmpeg -i audio.mp3 -f segment -segment_time 360 -c copy %03d.mp3'\r\n",
    "subprocess.call(command, shell=True)"
   ],
   "outputs": [
    {
     "output_type": "execute_result",
     "data": {
      "text/plain": [
       "1"
      ]
     },
     "metadata": {},
     "execution_count": 6
    }
   ],
   "metadata": {}
  },
  {
   "cell_type": "code",
   "execution_count": 7,
   "source": [
    "files = []\r\n",
    "for filename in os.listdir('.'):\r\n",
    "    if filename.endswith(\".mp3\") and filename !='audio.mp3':\r\n",
    "        files.append(filename)\r\n",
    "files.sort()"
   ],
   "outputs": [],
   "metadata": {}
  },
  {
   "cell_type": "code",
   "execution_count": 8,
   "source": [
    "\r\n",
    "files"
   ],
   "outputs": [
    {
     "output_type": "execute_result",
     "data": {
      "text/plain": [
       "['health.mp3']"
      ]
     },
     "metadata": {},
     "execution_count": 8
    }
   ],
   "metadata": {}
  },
  {
   "cell_type": "code",
   "execution_count": 10,
   "source": [
    "results = []\r\n",
    "for filename in files:\r\n",
    "    with open(filename, 'rb') as f:\r\n",
    "        res = stt.recognize(audio=f, content_type='audio/mp3', model='en-AU_NarrowbandModel', continuous=True, \\\r\n",
    "                           inactivity_timeout=360).get_result()\r\n",
    "        results.append(res)"
   ],
   "outputs": [
    {
     "output_type": "error",
     "ename": "ValueError",
     "evalue": "The service_url is required",
     "traceback": [
      "\u001b[1;31m---------------------------------------------------------------------------\u001b[0m",
      "\u001b[1;31mValueError\u001b[0m                                Traceback (most recent call last)",
      "\u001b[1;32m~\\AppData\\Local\\Temp/ipykernel_20316/2713605257.py\u001b[0m in \u001b[0;36m<module>\u001b[1;34m\u001b[0m\n\u001b[0;32m      2\u001b[0m \u001b[1;32mfor\u001b[0m \u001b[0mfilename\u001b[0m \u001b[1;32min\u001b[0m \u001b[0mfiles\u001b[0m\u001b[1;33m:\u001b[0m\u001b[1;33m\u001b[0m\u001b[1;33m\u001b[0m\u001b[0m\n\u001b[0;32m      3\u001b[0m     \u001b[1;32mwith\u001b[0m \u001b[0mopen\u001b[0m\u001b[1;33m(\u001b[0m\u001b[0mfilename\u001b[0m\u001b[1;33m,\u001b[0m \u001b[1;34m'rb'\u001b[0m\u001b[1;33m)\u001b[0m \u001b[1;32mas\u001b[0m \u001b[0mf\u001b[0m\u001b[1;33m:\u001b[0m\u001b[1;33m\u001b[0m\u001b[1;33m\u001b[0m\u001b[0m\n\u001b[1;32m----> 4\u001b[1;33m         res = stt.recognize(audio=f, content_type='audio/mp3', model='en-AU_NarrowbandModel', continuous=True, \\\n\u001b[0m\u001b[0;32m      5\u001b[0m                            inactivity_timeout=360).get_result()\n\u001b[0;32m      6\u001b[0m         \u001b[0mresults\u001b[0m\u001b[1;33m.\u001b[0m\u001b[0mappend\u001b[0m\u001b[1;33m(\u001b[0m\u001b[0mres\u001b[0m\u001b[1;33m)\u001b[0m\u001b[1;33m\u001b[0m\u001b[1;33m\u001b[0m\u001b[0m\n",
      "\u001b[1;32m~\\AppData\\Local\\Programs\\Python\\Python39\\lib\\site-packages\\ibm_watson\\speech_to_text_v1.py\u001b[0m in \u001b[0;36mrecognize\u001b[1;34m(self, audio, content_type, model, language_customization_id, acoustic_customization_id, base_model_version, customization_weight, inactivity_timeout, keywords, keywords_threshold, max_alternatives, word_alternatives_threshold, word_confidence, timestamps, profanity_filter, smart_formatting, speaker_labels, customization_id, grammar_name, redaction, audio_metrics, end_of_phrase_silence_time, split_transcript_at_phrase_end, speech_detector_sensitivity, background_audio_suppression, low_latency, **kwargs)\u001b[0m\n\u001b[0;32m    558\u001b[0m \u001b[1;33m\u001b[0m\u001b[0m\n\u001b[0;32m    559\u001b[0m         \u001b[0murl\u001b[0m \u001b[1;33m=\u001b[0m \u001b[1;34m'/v1/recognize'\u001b[0m\u001b[1;33m\u001b[0m\u001b[1;33m\u001b[0m\u001b[0m\n\u001b[1;32m--> 560\u001b[1;33m         request = self.prepare_request(method='POST',\n\u001b[0m\u001b[0;32m    561\u001b[0m                                        \u001b[0murl\u001b[0m\u001b[1;33m=\u001b[0m\u001b[0murl\u001b[0m\u001b[1;33m,\u001b[0m\u001b[1;33m\u001b[0m\u001b[1;33m\u001b[0m\u001b[0m\n\u001b[0;32m    562\u001b[0m                                        \u001b[0mheaders\u001b[0m\u001b[1;33m=\u001b[0m\u001b[0mheaders\u001b[0m\u001b[1;33m,\u001b[0m\u001b[1;33m\u001b[0m\u001b[1;33m\u001b[0m\u001b[0m\n",
      "\u001b[1;32m~\\AppData\\Local\\Programs\\Python\\Python39\\lib\\site-packages\\ibm_cloud_sdk_core\\base_service.py\u001b[0m in \u001b[0;36mprepare_request\u001b[1;34m(self, method, url, headers, params, data, files, **kwargs)\u001b[0m\n\u001b[0;32m    358\u001b[0m         \u001b[1;31m# validate the service url is set\u001b[0m\u001b[1;33m\u001b[0m\u001b[1;33m\u001b[0m\u001b[1;33m\u001b[0m\u001b[0m\n\u001b[0;32m    359\u001b[0m         \u001b[1;32mif\u001b[0m \u001b[1;32mnot\u001b[0m \u001b[0mself\u001b[0m\u001b[1;33m.\u001b[0m\u001b[0mservice_url\u001b[0m\u001b[1;33m:\u001b[0m\u001b[1;33m\u001b[0m\u001b[1;33m\u001b[0m\u001b[0m\n\u001b[1;32m--> 360\u001b[1;33m             \u001b[1;32mraise\u001b[0m \u001b[0mValueError\u001b[0m\u001b[1;33m(\u001b[0m\u001b[1;34m'The service_url is required'\u001b[0m\u001b[1;33m)\u001b[0m\u001b[1;33m\u001b[0m\u001b[1;33m\u001b[0m\u001b[0m\n\u001b[0m\u001b[0;32m    361\u001b[0m         \u001b[0mrequest\u001b[0m\u001b[1;33m[\u001b[0m\u001b[1;34m'url'\u001b[0m\u001b[1;33m]\u001b[0m \u001b[1;33m=\u001b[0m \u001b[0mstrip_extra_slashes\u001b[0m\u001b[1;33m(\u001b[0m\u001b[0mself\u001b[0m\u001b[1;33m.\u001b[0m\u001b[0mservice_url\u001b[0m \u001b[1;33m+\u001b[0m \u001b[0murl\u001b[0m\u001b[1;33m)\u001b[0m\u001b[1;33m\u001b[0m\u001b[1;33m\u001b[0m\u001b[0m\n\u001b[0;32m    362\u001b[0m \u001b[1;33m\u001b[0m\u001b[0m\n",
      "\u001b[1;31mValueError\u001b[0m: The service_url is required"
     ]
    }
   ],
   "metadata": {}
  },
  {
   "cell_type": "code",
   "execution_count": null,
   "source": [],
   "outputs": [],
   "metadata": {}
  }
 ],
 "metadata": {
  "orig_nbformat": 4,
  "language_info": {
   "name": "python",
   "version": "3.9.5",
   "mimetype": "text/x-python",
   "codemirror_mode": {
    "name": "ipython",
    "version": 3
   },
   "pygments_lexer": "ipython3",
   "nbconvert_exporter": "python",
   "file_extension": ".py"
  },
  "kernelspec": {
   "name": "python3",
   "display_name": "Python 3.9.5 64-bit"
  },
  "interpreter": {
   "hash": "d29b0313e189b5d9781c4a61e9adba9f7674695ceb643d07f06fd35d4f05a659"
  }
 },
 "nbformat": 4,
 "nbformat_minor": 2
}