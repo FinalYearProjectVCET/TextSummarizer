{
 "cells": [
  {
   "cell_type": "code",
   "execution_count": 11,
   "id": "4ee27b8a",
   "metadata": {},
   "outputs": [
    {
     "data": {
      "text/plain": [
       "<_io.BufferedRandom name='speechh.wav'>"
      ]
     },
     "execution_count": 11,
     "metadata": {},
     "output_type": "execute_result"
    }
   ],
   "source": [
    "from pydub import AudioSegment\n",
    "sound = AudioSegment.from_mp3(\"speech.mp3\")\n",
    "\n",
    "sound.export(\"speechh.wav\", format=\"wav\")"
   ]
  },
  {
   "cell_type": "code",
   "execution_count": 12,
   "id": "b06356db",
   "metadata": {},
   "outputs": [
    {
     "name": "stdout",
     "output_type": "stream",
     "text": [
      "please subscribe to smile please kids and explore our other videos from the playlist ab speech on Mahatma Gandhi a very good morning to the respected principal teachers and all my dear friends I miss Pooja Sharma from Standard second would like to speak a few words about father of the nation Mahatma Gandhi Mohandas Karamchand Gandhi home we called as Mahatma Gandhi or Bapuji was born on 2nd October 1869 in Porbandar Gujarat is mother's name was Putlibai and his father Karamchand Gandhi held the position of Diwali in state of Rajkot he got qualified as a barrister in England and came back to India later he was in South Africa for round two decades where is so the injustice of white men towards Indians in many ways he returned to India in 1915 and allied with Congress heroes the Satyagraha movement against British under his leadership Congress started movements like nonviolence and non cooperation to oppose the British rule yet another woman called Quit India Movement was started by him In 1942 which force British to live a country and does India got independence on 15th August 1947 he dedicated his entire life in pursuit of the truth and believed in living a simple life he worked for social issues like discrimination on the basis of caste and gender and fortunately Mahatma Gandhi was assassinated by Nathuram Godse on 30 January 1948 latest all place today to follow the path of truth and nonviolence and make a world a better place to live in only then we can pay who made to this great leader in the truest sense with this I conclude my speech thank you thanks for watching and you all have a very nice day\n"
     ]
    }
   ],
   "source": [
    "import speech_recognition as sr\n",
    "filename=\"speechh.wav\"\n",
    "r=sr.Recognizer()\n",
    "with sr.AudioFile(filename)as source:\n",
    "    audio_data=r.record(source)\n",
    "    text=r.recognize_google(audio_data)\n",
    "    print(text)"
   ]
  },
  {
   "cell_type": "code",
   "execution_count": null,
   "id": "aebcc03a",
   "metadata": {},
   "outputs": [],
   "source": []
  }
 ],
 "metadata": {
  "kernelspec": {
   "display_name": "Python 3 (ipykernel)",
   "language": "python",
   "name": "python3"
  },
  "language_info": {
   "codemirror_mode": {
    "name": "ipython",
    "version": 3
   },
   "file_extension": ".py",
   "mimetype": "text/x-python",
   "name": "python",
   "nbconvert_exporter": "python",
   "pygments_lexer": "ipython3",
   "version": "3.9.5"
  }
 },
 "nbformat": 4,
 "nbformat_minor": 5
}
