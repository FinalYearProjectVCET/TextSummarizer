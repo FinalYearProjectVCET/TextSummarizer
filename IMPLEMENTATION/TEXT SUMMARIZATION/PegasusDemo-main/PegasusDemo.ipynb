{
 "cells": [
  {
   "cell_type": "code",
   "execution_count": 2,
   "metadata": {},
   "outputs": [
    {
     "ename": "ImportError",
     "evalue": "cannot import name 'PegasusForConditionalGeneration' from 'transformers' (C:\\Users\\shweta\\anaconda3\\lib\\site-packages\\transformers\\__init__.py)",
     "output_type": "error",
     "traceback": [
      "\u001b[1;31m---------------------------------------------------------------------------\u001b[0m",
      "\u001b[1;31mImportError\u001b[0m                               Traceback (most recent call last)",
      "\u001b[1;32m<ipython-input-2-87df399d88d3>\u001b[0m in \u001b[0;36m<module>\u001b[1;34m\u001b[0m\n\u001b[1;32m----> 1\u001b[1;33m \u001b[1;32mfrom\u001b[0m \u001b[0mtransformers\u001b[0m \u001b[1;32mimport\u001b[0m \u001b[0mPegasusForConditionalGeneration\u001b[0m\u001b[1;33m,\u001b[0m \u001b[0mPegasusTokenizer\u001b[0m\u001b[1;33m\u001b[0m\u001b[1;33m\u001b[0m\u001b[0m\n\u001b[0m\u001b[0;32m      2\u001b[0m \u001b[1;32mimport\u001b[0m \u001b[0mtorch\u001b[0m\u001b[1;33m\u001b[0m\u001b[1;33m\u001b[0m\u001b[0m\n\u001b[0;32m      3\u001b[0m \u001b[1;33m\u001b[0m\u001b[0m\n\u001b[0;32m      4\u001b[0m \u001b[1;31m# model_name = 'google/pegasus-xsum' #ABSTRACTIVE\u001b[0m\u001b[1;33m\u001b[0m\u001b[1;33m\u001b[0m\u001b[1;33m\u001b[0m\u001b[0m\n\u001b[0;32m      5\u001b[0m \u001b[1;31m# model_name = 'google/pegasus-large' #EXTRACTIVE\u001b[0m\u001b[1;33m\u001b[0m\u001b[1;33m\u001b[0m\u001b[1;33m\u001b[0m\u001b[0m\n",
      "\u001b[1;31mImportError\u001b[0m: cannot import name 'PegasusForConditionalGeneration' from 'transformers' (C:\\Users\\shweta\\anaconda3\\lib\\site-packages\\transformers\\__init__.py)"
     ]
    }
   ],
   "source": [
    "from transformers import PegasusForConditionalGeneration, PegasusTokenizer\n",
    "import torch\n",
    "\n",
    "# model_name = 'google/pegasus-xsum' #ABSTRACTIVE\n",
    "# model_name = 'google/pegasus-large' #EXTRACTIVE\n",
    "# model_name = 'google/pegasus-reddit_tifu' #ABSTRACTIVE"
   ]
  },
  {
   "cell_type": "code",
   "execution_count": null,
   "metadata": {},
   "outputs": [],
   "source": [
    "\n",
    "model_name = 'google/pegasus-xsum' #ABSTRACTIVE\n",
    "torch_device = 'cuda' if torch.cuda.is_available() else 'cpu'\n",
    "tokenizer = PegasusTokenizer.from_pretrained(model_name)\n",
    "model = PegasusForConditionalGeneration.from_pretrained(model_name).to(torch_device)\n"
   ]
  },
  {
   "cell_type": "code",
   "execution_count": null,
   "metadata": {},
   "outputs": [],
   "source": [
    "src_text = [\n",
    "    \"\"\"The movie starts off with a man in a coat and hat trying to defuse a bomb. He gets distracted by a gunshot and before the bomb can be safely defused, it blows up burning the face of the man in the coat and hat. Another person walks up to burnt man and helps him reach out to a violin case. The burnt man uses the violin box and disappears. There are three people in this scene. The man trying to defuse the bomb, this is John. The man who fires at John, this is the Fizzle bomber and the man who helps John with the violin case, this is the Barkeep. The point to be noted here is that they are all the same person from 3 different times. Don’t give it too much thought right now. Read on further.Burnt face man, John, goes back to a future time – 1992, and gets his face grafted. Since his face is completely destroyed, they give him a new face. This is the face that we will refer to as Barkeep. John/Barkeep has been trying to hunt down a chain bomber that they call the Fizzle bomber. He has been trying to stop a major New York event in 1975 which kills over 10,000 people, but has been unsuccessful so far. He is a temporal agent of a mysterious Temporal Bureau who have the ability to travel through time.Barkeep has one final mission he has to embark on now. For which he travels back to 1970 and plays the role of a barkeep. His younger self, John from 1970, arrives at the bar. They start talking. John reveals that he is the author – Unmarried Mother. John starts telling the story of his life where he was born a girl and was called Jane. Jane was a baby abandoned at an orphanage in 1945. Jane never ends up getting adopted and she eventually tries to join the Space Corps program headed by one Mr. Robertson. Jane gets rejected from the program because something in her physiology is “odd”. But they don’t tell her that when they disqualify her. They simply pin the disqualification on the fight Jane has with another girl in the Corp. This detail comes as a flashback later on in the movie.Jane gives up and attends night school where she bumps into a stranger. She falls in love with him, but the stranger disappears on Jane one day, leaving her waiting on a bench. We will get back to who this stranger is in a bit. Jane realizes that she is pregnant. She delivers a baby successfully but the doctor tells her that Jane has an “odd” physiology – she has fully formed male and female organs. Complications in delivery result in the doctors only being able to save the male organs. Jane will need to change to a man as a result. Soon after this, her baby gets stolen. Jane becomes John over time.John completes telling this story to the Barkeep. However, the Barkeep knows all of this. It is his own life’s story after all. He doesn’t reveal that yet. Barkeep tells John that he knows the location of the “stranger” who ruined Jane’s life. Barkeep promises that he will give John the opportunity of revenge, of killing that stranger free of any consequences. John and Barkeep use the violin box to travel back in time to the point where Jane was attending night school. John equips himself with a gun and goes looking for the stranger but bumps into Jane. John soon realizes that he is that “stranger”. He falls in love with Jane and has sex with her.Yes, folks, the male self goes back in time when he was female and has sex with him/herself. Bizarre, we now know another one of those things that is apparently possible in this universe of the film. Talk about self-sufficient! Hang on, there is more to come.While all of this is happening, Barkeep quietly slips out and goes forward to 1970 – to the event of the bomb defusal, the first scene of the movie. Barkeep arrives to notice the Fizzle bomber placing the bomb; they get into a gunfight, then into a fist fight. Barkeep gets his ass handed to him and faints. He wakes up just in time to see John’s face getting burnt trying to defuse the bomb. Barkeep helps John with the violin box. The Fizzle bomber escapes.Barkeep heads to the time when Jane has given birth. Mr. Robertson joins him there. It is shown that he too has a little violin box of his own and can travel through time, he seems to head the Temporal Bureau. Barkeep steals Jane’s baby and travels back to 1945 with the baby. He abandons the baby at the orphanage.Yep, not only does the male from a future time has sex with his past girl self, the baby born as a result is the origin of him/herself too. Messed up right? That is truly self-sufficient indeed! This also explains why the baby would grow with both sex organs. Ladies and gentlemen, that’s your predestination and bootstrap paradox right there. Jane/John is a self-created entity because the “he” from a future time has sex with the “she” from a past time.Once Barkeep leaves the baby, he returns to the time John and Jane are still together. He signals for John, John leaves Jane waiting on the bench. Barkeep tells John that they need to leave this time and travel forward. At this point Barkeep tells John that he too is John from a future time with a different face – however, in the movie, this portion is disclosed only in the end. Barkeep and John travel forward to 1985. Barkeep meets Mr. Robertson and leaves John to recover there and travels back to 1975 for retirement. By now Barkeep has made an audio recording for John to hear and follow. Barkeep heads off to 1975 (just before the New York event date).John recovers from the shock of the truth and uses the tape left to him by Barkeep to prep to become a temporal agent. Seven years later, in 1992, John jumps back to 1970 wearing a coat and a hat to defuse a bomb set by the Fizzle bomber. John gets into a gunfight with the Fizzle bomber and ends up getting distracted. The bomb goes off burning John’s face.There you have it. That explains why in the first scene of the movie you have 3 people – John, Barkeep and Fizzle bomber who are the same person from 3 different times.\"\"\"\n",
    "]\n",
    "\n",
    "# batch = tokenizer.prepare_seq2seq_batch(src_text, truncation=True, padding='longest').to(torch_device)\n",
    "batch = tokenizer.prepare_seq2seq_batch(src_text, truncation=True, padding='longest', return_tensors='pt').to(torch_device)\n",
    "translated = model.generate(**batch)\n",
    "tgt_text = tokenizer.batch_decode(translated, skip_special_tokens=True)\n",
    "print(tgt_text)"
   ]
  },
  {
   "cell_type": "code",
   "execution_count": 3,
   "metadata": {},
   "outputs": [
    {
     "name": "stderr",
     "output_type": "stream",
     "text": [
      "c:\\users\\yash\\appdata\\local\\programs\\python\\python39\\lib\\site-packages\\transformers\\tokenization_utils_base.py:3277: FutureWarning: `prepare_seq2seq_batch` is deprecated and will be removed in version 5 of 🤗 Transformers. Use the regular `__call__` method to prepare your inputs and the tokenizer under the `with_target_tokenizer` context manager to prepare your targets. See the documentation of your specific tokenizer for more details\n",
      "  warnings.warn(\n",
      "c:\\users\\yash\\appdata\\local\\programs\\python\\python39\\lib\\site-packages\\torch\\_tensor.py:575: UserWarning: floor_divide is deprecated, and will be removed in a future version of pytorch. It currently rounds toward 0 (like the 'trunc' function NOT 'floor'). This results in incorrect rounding for negative values.\n",
      "To keep the current behavior, use torch.div(a, b, rounding_mode='trunc'), or for actual floor division, use torch.div(a, b, rounding_mode='floor'). (Triggered internally at  ..\\aten\\src\\ATen\\native\\BinaryOps.cpp:467.)\n",
      "  return torch.floor_divide(self, other)\n"
     ]
    },
    {
     "name": "stdout",
     "output_type": "stream",
     "text": [
      "['This is the story of how i ended up with a nasty gash on my leg.']\n"
     ]
    }
   ],
   "source": [
    "src_text = [\n",
    "    \"\"\"this happened 5/6 years ago so my whole family every xmas day goes around to my aunties for celebrations. my cousin (of course) was there and he\n",
    "asked if i wanted to play cops and robbers. i accepted of course. now, next to the side of my aunts house is a little area with a small fence, a covered\n",
    "water tank and super duper sharp stones. my cousin (who was the cop) was gaining on me. i (tried) to jump over the fence, aaand i failed the jump\n",
    "and went crashing onto the gravel, my leg hitting the sharpest bit and, then the next thing i knew it had a nasty gash.\"\"\"\n",
    "]\n",
    "\n",
    "# batch = tokenizer.prepare_seq2seq_batch(src_text, truncation=True, padding='longest').to(torch_device)\n",
    "batch = tokenizer.prepare_seq2seq_batch(src_text, truncation=True, padding='longest', return_tensors='pt').to(torch_device)\n",
    "translated = model.generate(**batch)\n",
    "tgt_text = tokenizer.batch_decode(translated, skip_special_tokens=True)\n",
    "print(tgt_text)"
   ]
  },
  {
   "cell_type": "code",
   "execution_count": 5,
   "metadata": {},
   "outputs": [
    {
     "name": "stderr",
     "output_type": "stream",
     "text": [
      "c:\\users\\yash\\appdata\\local\\programs\\python\\python39\\lib\\site-packages\\transformers\\tokenization_utils_base.py:3277: FutureWarning: `prepare_seq2seq_batch` is deprecated and will be removed in version 5 of 🤗 Transformers. Use the regular `__call__` method to prepare your inputs and the tokenizer under the `with_target_tokenizer` context manager to prepare your targets. See the documentation of your specific tokenizer for more details\n",
      "  warnings.warn(\n",
      "c:\\users\\yash\\appdata\\local\\programs\\python\\python39\\lib\\site-packages\\torch\\_tensor.py:575: UserWarning: floor_divide is deprecated, and will be removed in a future version of pytorch. It currently rounds toward 0 (like the 'trunc' function NOT 'floor'). This results in incorrect rounding for negative values.\n",
      "To keep the current behavior, use torch.div(a, b, rounding_mode='trunc'), or for actual floor division, use torch.div(a, b, rounding_mode='floor'). (Triggered internally at  ..\\aten\\src\\ATen\\native\\BinaryOps.cpp:467.)\n",
      "  return torch.floor_divide(self, other)\n"
     ]
    },
    {
     "name": "stdout",
     "output_type": "stream",
     "text": [
      "['In this article, I am going to give you a gist of what happened in the movie Back to the Future.']\n"
     ]
    }
   ],
   "source": []
  },
  {
   "cell_type": "code",
   "execution_count": 4,
   "metadata": {},
   "outputs": [
    {
     "name": "stderr",
     "output_type": "stream",
     "text": [
      "c:\\users\\yash\\appdata\\local\\programs\\python\\python39\\lib\\site-packages\\transformers\\tokenization_utils_base.py:3277: FutureWarning: `prepare_seq2seq_batch` is deprecated and will be removed in version 5 of 🤗 Transformers. Use the regular `__call__` method to prepare your inputs and the tokenizer under the `with_target_tokenizer` context manager to prepare your targets. See the documentation of your specific tokenizer for more details\n",
      "  warnings.warn(\n"
     ]
    },
    {
     "name": "stdout",
     "output_type": "stream",
     "text": [
      "['I’ve been meaning to write this post for a long time.']\n"
     ]
    }
   ],
   "source": [
    "src_text = [\n",
    "    \"\"\"throwaway here for obvious reasons.. today my friends and i decided to go off-roading in nowhereland. we packed up all our stuff, made the roughly\n",
    "hour drive off to the mountains to make a fire, go fishing and just talk about life until we got too tired to stay any longer. we got everything packed\n",
    "up and brought along one of my friends’ dog because she’s awesome and loves the outdoors. the dog was flipping out in the suv on the way to the\n",
    "path because she knew was a kick-ass day she was about to have breaking out of her normally lame, domesticated dog life. my friends decided to\n",
    "drink during the off-roading adventure, which was fine because i volunteered to drive since i cannot drink alcohol (mouth is wired shut [long story\n",
    "but i can’t drink alcohol for a while]) so we were playing it safe. the dog couldn’t be any happier and was about to jump out of the truck (literally)\n",
    "when we got there so the dog’s owner let her get out and run along side of us while we drove the dirt road up to the destination for the fire. as i was\n",
    "driving, the dog went in and out of vision, mostly biting the tires as most dogs do, playing around. the owner kept asking us (the two guys up front)\n",
    "if we could see her. we said yes, and kept driving. as i was driving at no more than 5-10mph along the dirt road, i could hear the dog biting at the\n",
    "tires playfully, but we just laughed it off bc we thought she was having fun. the horrible, seconds-long event that ensued was me feeling the dreaded\n",
    "’double-thud’ under the tires and heard the dog yelp in pain. i instantly stopped the ... .\"\"\"\n",
    "]\n",
    "\n",
    "\n",
    "# batch = tokenizer.prepare_seq2seq_batch(src_text, truncation=True, padding='longest').to(torch_device)\n",
    "batch = tokenizer.prepare_seq2seq_batch(src_text, truncation=True, padding='longest', return_tensors='pt').to(torch_device)\n",
    "translated = model.generate(**batch)\n",
    "tgt_text = tokenizer.batch_decode(translated, skip_special_tokens=True)\n",
    "print(tgt_text)"
   ]
  },
  {
   "cell_type": "code",
   "execution_count": 13,
   "metadata": {},
   "outputs": [
    {
     "name": "stdout",
     "output_type": "stream",
     "text": [
      "5940\n",
      "96\n"
     ]
    }
   ],
   "source": [
    "print(len(src_text[0]))\n",
    "print(len(tgt_text[0]))"
   ]
  },
  {
   "cell_type": "code",
   "execution_count": 5,
   "metadata": {},
   "outputs": [
    {
     "name": "stdout",
     "output_type": "stream",
     "text": [
      "['My name is Yash and I am a student of class 12.']\n"
     ]
    }
   ],
   "source": [
    "src_text = [\"\"\"My name is Yash. I'm 21 years old. I am the youngest of my only brother and two sisters. My elder brother is just six years elder in age than me. My other two elder sisters are younger than my brother. Being the eldest one, sometimes, gives you the favors. Luckily, I am loved, cared and most favored upon in my all family. I am the students of high school. My elder brother studies in university. One elder sister of mine is the college student whereas the the youngest sister of mine is studying class 10. That’s, I go to school with my younger sister. I wake up early in the morning and finish up all of my doings on exact time. We all pack up for our respective works. My siblings prepare for school, college and university. My father, for hospital and my mother for nearby school. The values like hard work, time management, sincerity with work and dedication to purpose have been ingrained in our nature. Its true to say that a child becomes what the environment he gets in his home. All the essential humane qualities like sincerity, dedication, truth and honesty I do experience practically at my home. The school is a place that truly helps shaping one’s personality. My school is like another Godsend gift for me. It is one of the best school in our entire vicinity. We are truly cared, rightly educated and well socialized here at our school. I myself feel proud of being a student here. I do take care of what is being taught and what is to learn. I respect my teachers, my fellow beings, my school and every thing that is associated with my school. I am a good student, who actively participates in all activities, be it exams or extra curricular activities. The extracurricular activities like sports, quiz competitions, essays and speech competitions etc. are the heart of my institution. I myself am essay competition winner on various times. Truly it is said, one can not study from the books alone. Instead, one has to learn from all extracurricular activities in which one participates. I myself am the best essay writer, cricket player, singer and dancer and topper in all exams. The Career planning is the very thing that irritates oneself. Without a sound career planning, right from the start, one can not stay on the right track. One has to do the things or set the goals in accordance to his or her broad career goals. A man without a sound career planing is like a ship without the radar. It drifts and ultimately sinks down in the deep ocean. But unlike my father, who is a doctor, I myself feel a little interest in this profession. Though it is the best profession but one’s interest and aptitude differs. I myself wants to be a Civil servant to serve my people in my best capacity. I am very much inspired from my maternal uncle who is the chief of police force. That truly inspires me so as I myself want to serve my nation by being a good civil servant. One’s future can be determined by what one has achieved today or what one is doing today. A man who dreams only for future and does nothing for tomorrow can be best named as  lazy and the pathetic person. In that way, I dislike myself being called as a man without a vision and castle maker in sky. I do work for what I dream. So far, I have proved myself being the best one in all fields like in academic, extracurricular and in personal domains. All of this success, hard work, dedication, determination is truly credited to my parents who have made this possible for me. Successes and failures are closely associated with one’s achievements and losses. One who achieves anything today has lost a thing yesterday. There is no completely successful man without the mixture of both failures and successes. That is to say, I failed a dozen of times. But, every failure made me stronger ever.\"\"\"]\n",
    "\n",
    "\n",
    "# batch = tokenizer.prepare_seq2seq_batch(src_text, truncation=True, padding='longest').to(torch_device)\n",
    "batch = tokenizer.prepare_seq2seq_batch(src_text, truncation=True, padding='longest', return_tensors='pt').to(torch_device)\n",
    "translated = model.generate(**batch)\n",
    "tgt_text = tokenizer.batch_decode(translated, skip_special_tokens=True)\n",
    "print(tgt_text)"
   ]
  },
  {
   "cell_type": "code",
   "execution_count": 14,
   "metadata": {},
   "outputs": [],
   "source": [
    "model_name = 'google/pegasus-large' #EXTRACTIVE\n",
    "torch_device = 'cuda' if torch.cuda.is_available() else 'cpu'\n",
    "tokenizer = PegasusTokenizer.from_pretrained(model_name)\n",
    "model = PegasusForConditionalGeneration.from_pretrained(model_name).to(torch_device)"
   ]
  },
  {
   "cell_type": "code",
   "execution_count": 8,
   "metadata": {},
   "outputs": [
    {
     "name": "stdout",
     "output_type": "stream",
     "text": [
      "['the dog couldn’t be any happier and was about to jump out of the truck (literally) when we got there so the dog’s owner let her get out and run along side of us while we drove the dirt road up to the destination for the fire. as i was driving at no more than 5-10mph along the dirt road, i could hear the dog biting at the tires playfully, but we just laughed it off bc we thought she was having fun.']\n"
     ]
    }
   ],
   "source": [
    "src_text = [\n",
    "    \"\"\"throwaway here for obvious reasons.. today my friends and i decided to go off-roading in nowhereland. we packed up all our stuff, made the roughly\n",
    "hour drive off to the mountains to make a fire, go fishing and just talk about life until we got too tired to stay any longer. we got everything packed\n",
    "up and brought along one of my friends’ dog because she’s awesome and loves the outdoors. the dog was flipping out in the suv on the way to the\n",
    "path because she knew was a kick-ass day she was about to have breaking out of her normally lame, domesticated dog life. my friends decided to\n",
    "drink during the off-roading adventure, which was fine because i volunteered to drive since i cannot drink alcohol (mouth is wired shut [long story\n",
    "but i can’t drink alcohol for a while]) so we were playing it safe. the dog couldn’t be any happier and was about to jump out of the truck (literally)\n",
    "when we got there so the dog’s owner let her get out and run along side of us while we drove the dirt road up to the destination for the fire. as i was\n",
    "driving, the dog went in and out of vision, mostly biting the tires as most dogs do, playing around. the owner kept asking us (the two guys up front)\n",
    "if we could see her. we said yes, and kept driving. as i was driving at no more than 5-10mph along the dirt road, i could hear the dog biting at the\n",
    "tires playfully, but we just laughed it off bc we thought she was having fun. the horrible, seconds-long event that ensued was me feeling the dreaded\n",
    "’double-thud’ under the tires and heard the dog yelp in pain. i instantly stopped the ... .\"\"\"\n",
    "]\n",
    "\n",
    "\n",
    "batch = tokenizer.prepare_seq2seq_batch(src_text, truncation=True, padding='longest', return_tensors='pt').to(torch_device)\n",
    "translated = model.generate(**batch)\n",
    "tgt_text = tokenizer.batch_decode(translated, skip_special_tokens=True)\n",
    "print(tgt_text)"
   ]
  },
  {
   "cell_type": "code",
   "execution_count": 15,
   "metadata": {},
   "outputs": [
    {
     "name": "stdout",
     "output_type": "stream",
     "text": [
      "['He gets distracted by a gunshot and before the bomb can be safely defused, it blows up burning the face of the man in the coat and hat. Another person walks up to burnt man and helps him reach out to a violin case. The man who fires at John, this is the Fizzle bomber and the man who helps John with the violin case, this is the Barkeep.Burnt face man, John, goes back to a future time – 1992, and gets his face grafted. John/Barkeep has been trying to hunt down a chain bomber that they call the Fizzle bomber. He is a temporal agent of a mysterious Temporal Bureau who have the ability to travel through time. He is a temporal agent of a mysterious Temporal Bureau who have the ability to travel through time.']\n"
     ]
    }
   ],
   "source": [
    "src_text = [\n",
    "    \"\"\"The movie starts off with a man in a coat and hat trying to defuse a bomb. He gets distracted by a gunshot and before the bomb can be safely defused, it blows up burning the face of the man in the coat and hat. Another person walks up to burnt man and helps him reach out to a violin case. The burnt man uses the violin box and disappears. There are three people in this scene. The man trying to defuse the bomb, this is John. The man who fires at John, this is the Fizzle bomber and the man who helps John with the violin case, this is the Barkeep. The point to be noted here is that they are all the same person from 3 different times. Don’t give it too much thought right now. Read on further.Burnt face man, John, goes back to a future time – 1992, and gets his face grafted. Since his face is completely destroyed, they give him a new face. This is the face that we will refer to as Barkeep. John/Barkeep has been trying to hunt down a chain bomber that they call the Fizzle bomber. He has been trying to stop a major New York event in 1975 which kills over 10,000 people, but has been unsuccessful so far. He is a temporal agent of a mysterious Temporal Bureau who have the ability to travel through time.Barkeep has one final mission he has to embark on now. For which he travels back to 1970 and plays the role of a barkeep. His younger self, John from 1970, arrives at the bar. They start talking. John reveals that he is the author – Unmarried Mother. John starts telling the story of his life where he was born a girl and was called Jane. Jane was a baby abandoned at an orphanage in 1945. Jane never ends up getting adopted and she eventually tries to join the Space Corps program headed by one Mr. Robertson. Jane gets rejected from the program because something in her physiology is “odd”. But they don’t tell her that when they disqualify her. They simply pin the disqualification on the fight Jane has with another girl in the Corp. This detail comes as a flashback later on in the movie.Jane gives up and attends night school where she bumps into a stranger. She falls in love with him, but the stranger disappears on Jane one day, leaving her waiting on a bench. We will get back to who this stranger is in a bit. Jane realizes that she is pregnant. She delivers a baby successfully but the doctor tells her that Jane has an “odd” physiology – she has fully formed male and female organs. Complications in delivery result in the doctors only being able to save the male organs. Jane will need to change to a man as a result. Soon after this, her baby gets stolen. Jane becomes John over time.John completes telling this story to the Barkeep. However, the Barkeep knows all of this. It is his own life’s story after all. He doesn’t reveal that yet. Barkeep tells John that he knows the location of the “stranger” who ruined Jane’s life. Barkeep promises that he will give John the opportunity of revenge, of killing that stranger free of any consequences. John and Barkeep use the violin box to travel back in time to the point where Jane was attending night school. John equips himself with a gun and goes looking for the stranger but bumps into Jane. John soon realizes that he is that “stranger”. He falls in love with Jane and has sex with her.Yes, folks, the male self goes back in time when he was female and has sex with him/herself. Bizarre, we now know another one of those things that is apparently possible in this universe of the film. Talk about self-sufficient! Hang on, there is more to come.While all of this is happening, Barkeep quietly slips out and goes forward to 1970 – to the event of the bomb defusal, the first scene of the movie. Barkeep arrives to notice the Fizzle bomber placing the bomb; they get into a gunfight, then into a fist fight. Barkeep gets his ass handed to him and faints. He wakes up just in time to see John’s face getting burnt trying to defuse the bomb. Barkeep helps John with the violin box. The Fizzle bomber escapes.Barkeep heads to the time when Jane has given birth. Mr. Robertson joins him there. It is shown that he too has a little violin box of his own and can travel through time, he seems to head the Temporal Bureau. Barkeep steals Jane’s baby and travels back to 1945 with the baby. He abandons the baby at the orphanage.Yep, not only does the male from a future time has sex with his past girl self, the baby born as a result is the origin of him/herself too. Messed up right? That is truly self-sufficient indeed! This also explains why the baby would grow with both sex organs. Ladies and gentlemen, that’s your predestination and bootstrap paradox right there. Jane/John is a self-created entity because the “he” from a future time has sex with the “she” from a past time.Once Barkeep leaves the baby, he returns to the time John and Jane are still together. He signals for John, John leaves Jane waiting on the bench. Barkeep tells John that they need to leave this time and travel forward. At this point Barkeep tells John that he too is John from a future time with a different face – however, in the movie, this portion is disclosed only in the end. Barkeep and John travel forward to 1985. Barkeep meets Mr. Robertson and leaves John to recover there and travels back to 1975 for retirement. By now Barkeep has made an audio recording for John to hear and follow. Barkeep heads off to 1975 (just before the New York event date).John recovers from the shock of the truth and uses the tape left to him by Barkeep to prep to become a temporal agent. Seven years later, in 1992, John jumps back to 1970 wearing a coat and a hat to defuse a bomb set by the Fizzle bomber. John gets into a gunfight with the Fizzle bomber and ends up getting distracted. The bomb goes off burning John’s face.There you have it. That explains why in the first scene of the movie you have 3 people – John, Barkeep and Fizzle bomber who are the same person from 3 different times.\"\"\"\n",
    "]\n",
    "\n",
    "batch = tokenizer.prepare_seq2seq_batch(src_text, truncation=True, padding='longest', return_tensors='pt').to(torch_device)\n",
    "translated = model.generate(**batch)\n",
    "tgt_text = tokenizer.batch_decode(translated, skip_special_tokens=True)\n",
    "print(tgt_text)"
   ]
  },
  {
   "cell_type": "code",
   "execution_count": 17,
   "metadata": {},
   "outputs": [
    {
     "name": "stdout",
     "output_type": "stream",
     "text": [
      "5940\n",
      "711\n"
     ]
    }
   ],
   "source": [
    "print(len(src_text[0]))\n",
    "print(len(tgt_text[0]))"
   ]
  },
  {
   "cell_type": "code",
   "execution_count": 8,
   "metadata": {},
   "outputs": [
    {
     "name": "stdout",
     "output_type": "stream",
     "text": [
      "['But one day, when he turned eighty years old, an incredible thing happened. Instantly everyone started hearing the rumour: An Old Man is happy today, he doesn’t complain about anything, smiles, and even his face is freshened up.']\n"
     ]
    }
   ],
   "source": [
    "src_text = [\n",
    "    \"\"\"An old man lived in the village. He was one of the most unfortunate people in the world. The whole village was tired of him; he was always gloomy, he constantly complained and was always in a bad mood. The longer he lived, the more bile he was becoming and the more poisonous were his words. People avoided him, because his misfortune became contagious. It was even unnatural and insulting to be happy next to him.He created the feeling of unhappiness in others. But one day, when he turned eighty years old, an incredible thing happened. Instantly everyone started hearing the rumour: An Old Man is happy today, he doesn’t complain about anything, smiles, and even his face is freshened up. The whole village gathered together. The old man was asked: Villager: What happened to you? Nothing special. Eighty years I've been chasing happiness, and it was useless. And then I decided to live without happiness and just enjoy life. That's why I'm happy now.\"\"\"\n",
    "]\n",
    "\n",
    "\n",
    "batch = tokenizer.prepare_seq2seq_batch(src_text, truncation=True, padding='longest', return_tensors='pt').to(torch_device)\n",
    "translated = model.generate(**batch)\n",
    "tgt_text = tokenizer.batch_decode(translated, skip_special_tokens=True)\n",
    "print(tgt_text)"
   ]
  },
  {
   "cell_type": "code",
   "execution_count": 10,
   "metadata": {},
   "outputs": [
    {
     "name": "stdout",
     "output_type": "stream",
     "text": [
      "['now, next to the side of my aunts house is a little area with a small fence, a covered water tank and super duper sharp stones.']\n"
     ]
    }
   ],
   "source": [
    "src_text = [\n",
    "    \"\"\"this happened 5/6 years ago so my whole family every xmas day goes around to my aunties for celebrations. my cousin (of course) was there and he\n",
    "asked if i wanted to play cops and robbers. i accepted of course. now, next to the side of my aunts house is a little area with a small fence, a covered\n",
    "water tank and super duper sharp stones. my cousin (who was the cop) was gaining on me. i (tried) to jump over the fence, aaand i failed the jump\n",
    "and went crashing onto the gravel, my leg hitting the sharpest bit and, then the next thing i knew it had a nasty gash.\"\"\"\n",
    "]\n",
    "\n",
    "\n",
    "batch = tokenizer.prepare_seq2seq_batch(src_text, truncation=True, padding='longest', return_tensors='pt').to(torch_device)\n",
    "translated = model.generate(**batch)\n",
    "tgt_text = tokenizer.batch_decode(translated, skip_special_tokens=True)\n",
    "print(tgt_text)"
   ]
  },
  {
   "cell_type": "code",
   "execution_count": 18,
   "metadata": {},
   "outputs": [],
   "source": [
    "model_name = 'google/pegasus-reddit_tifu' #ABSTRACTIVE\n",
    "torch_device = 'cuda' if torch.cuda.is_available() else 'cpu'\n",
    "tokenizer = PegasusTokenizer.from_pretrained(model_name)\n",
    "model = PegasusForConditionalGeneration.from_pretrained(model_name).to(torch_device)"
   ]
  },
  {
   "cell_type": "code",
   "execution_count": 10,
   "metadata": {},
   "outputs": [
    {
     "name": "stdout",
     "output_type": "stream",
     "text": [
      "[\"played cops and robbers, tried to jump over a fence, ended up with a nasty gash on my leg. i'm not a good cop.\"]\n"
     ]
    }
   ],
   "source": [
    "src_text = [\n",
    "    \"\"\"this happened 5/6 years ago so my whole family every xmas day goes around to my aunties for celebrations. my cousin (of course) was there and he\n",
    "asked if i wanted to play cops and robbers. i accepted of course. now, next to the side of my aunts house is a little area with a small fence, a covered\n",
    "water tank and super duper sharp stones. my cousin (who was the cop) was gaining on me. i (tried) to jump over the fence, aaand i failed the jump\n",
    "and went crashing onto the gravel, my leg hitting the sharpest bit and, then the next thing i knew it had a nasty gash.\"\"\"\n",
    "]\n",
    "\n",
    "\n",
    "batch = tokenizer.prepare_seq2seq_batch(src_text, truncation=True, padding='longest', return_tensors='pt').to(torch_device)\n",
    "translated = model.generate(**batch)\n",
    "tgt_text = tokenizer.batch_decode(translated, skip_special_tokens=True)\n",
    "print(tgt_text)"
   ]
  },
  {
   "cell_type": "code",
   "execution_count": null,
   "metadata": {},
   "outputs": [],
   "source": [
    "src_text = [\n",
    "    \"\"\"The movie starts off with a man in a coat and hat trying to defuse a bomb. He gets distracted by a gunshot and before the bomb can be safely defused, it blows up burning the face of the man in the coat and hat. Another person walks up to burnt man and helps him reach out to a violin case. The burnt man uses the violin box and disappears. There are three people in this scene. The man trying to defuse the bomb, this is John. The man who fires at John, this is the Fizzle bomber and the man who helps John with the violin case, this is the Barkeep. The point to be noted here is that they are all the same person from 3 different times. Don’t give it too much thought right now. Read on further.Burnt face man, John, goes back to a future time – 1992, and gets his face grafted. Since his face is completely destroyed, they give him a new face. This is the face that we will refer to as Barkeep. John/Barkeep has been trying to hunt down a chain bomber that they call the Fizzle bomber. He has been trying to stop a major New York event in 1975 which kills over 10,000 people, but has been unsuccessful so far. He is a temporal agent of a mysterious Temporal Bureau who have the ability to travel through time.Barkeep has one final mission he has to embark on now. For which he travels back to 1970 and plays the role of a barkeep. His younger self, John from 1970, arrives at the bar. They start talking. John reveals that he is the author – Unmarried Mother. John starts telling the story of his life where he was born a girl and was called Jane. Jane was a baby abandoned at an orphanage in 1945. Jane never ends up getting adopted and she eventually tries to join the Space Corps program headed by one Mr. Robertson. Jane gets rejected from the program because something in her physiology is “odd”. But they don’t tell her that when they disqualify her. They simply pin the disqualification on the fight Jane has with another girl in the Corp. This detail comes as a flashback later on in the movie.Jane gives up and attends night school where she bumps into a stranger. She falls in love with him, but the stranger disappears on Jane one day, leaving her waiting on a bench. We will get back to who this stranger is in a bit. Jane realizes that she is pregnant. She delivers a baby successfully but the doctor tells her that Jane has an “odd” physiology – she has fully formed male and female organs. Complications in delivery result in the doctors only being able to save the male organs. Jane will need to change to a man as a result. Soon after this, her baby gets stolen. Jane becomes John over time.John completes telling this story to the Barkeep. However, the Barkeep knows all of this. It is his own life’s story after all. He doesn’t reveal that yet. Barkeep tells John that he knows the location of the “stranger” who ruined Jane’s life. Barkeep promises that he will give John the opportunity of revenge, of killing that stranger free of any consequences. John and Barkeep use the violin box to travel back in time to the point where Jane was attending night school. John equips himself with a gun and goes looking for the stranger but bumps into Jane. John soon realizes that he is that “stranger”. He falls in love with Jane and has sex with her.Yes, folks, the male self goes back in time when he was female and has sex with him/herself. Bizarre, we now know another one of those things that is apparently possible in this universe of the film. Talk about self-sufficient! Hang on, there is more to come.While all of this is happening, Barkeep quietly slips out and goes forward to 1970 – to the event of the bomb defusal, the first scene of the movie. Barkeep arrives to notice the Fizzle bomber placing the bomb; they get into a gunfight, then into a fist fight. Barkeep gets his ass handed to him and faints. He wakes up just in time to see John’s face getting burnt trying to defuse the bomb. Barkeep helps John with the violin box. The Fizzle bomber escapes.Barkeep heads to the time when Jane has given birth. Mr. Robertson joins him there. It is shown that he too has a little violin box of his own and can travel through time, he seems to head the Temporal Bureau. Barkeep steals Jane’s baby and travels back to 1945 with the baby. He abandons the baby at the orphanage.Yep, not only does the male from a future time has sex with his past girl self, the baby born as a result is the origin of him/herself too. Messed up right? That is truly self-sufficient indeed! This also explains why the baby would grow with both sex organs. Ladies and gentlemen, that’s your predestination and bootstrap paradox right there. Jane/John is a self-created entity because the “he” from a future time has sex with the “she” from a past time.Once Barkeep leaves the baby, he returns to the time John and Jane are still together. He signals for John, John leaves Jane waiting on the bench. Barkeep tells John that they need to leave this time and travel forward. At this point Barkeep tells John that he too is John from a future time with a different face – however, in the movie, this portion is disclosed only in the end. Barkeep and John travel forward to 1985. Barkeep meets Mr. Robertson and leaves John to recover there and travels back to 1975 for retirement. By now Barkeep has made an audio recording for John to hear and follow. Barkeep heads off to 1975 (just before the New York event date).John recovers from the shock of the truth and uses the tape left to him by Barkeep to prep to become a temporal agent. Seven years later, in 1992, John jumps back to 1970 wearing a coat and a hat to defuse a bomb set by the Fizzle bomber. John gets into a gunfight with the Fizzle bomber and ends up getting distracted. The bomb goes off burning John’s face.There you have it. That explains why in the first scene of the movie you have 3 people – John, Barkeep and Fizzle bomber who are the same person from 3 different times.\"\"\"\n",
    "]\n",
    "\n",
    "\n",
    "batch = tokenizer.prepare_seq2seq_batch(src_text, truncation=True, padding='longest', return_tensors='pt').to(torch_device)\n",
    "translated = model.generate(**batch)\n",
    "tgt_text = tokenizer.batch_decode(translated, skip_special_tokens=True)\n",
    "print(tgt_text)"
   ]
  },
  {
   "cell_type": "code",
   "execution_count": 13,
   "metadata": {},
   "outputs": [
    {
     "name": "stdout",
     "output_type": "stream",
     "text": [
      "['went off-roading with friends and brought a friend’s dog along. the dog went in and out of vision, biting the tires, and i felt the dreaded ’double-thud’ under the tires and heard the dog yelp in pain.']\n"
     ]
    }
   ],
   "source": [
    "src_text = [\n",
    "    \"\"\"throwaway here for obvious reasons.. today my friends and i decided to go off-roading in nowhereland. we packed up all our stuff, made the roughly\n",
    "hour drive off to the mountains to make a fire, go fishing and just talk about life until we got too tired to stay any longer. we got everything packed\n",
    "up and brought along one of my friends’ dog because she’s awesome and loves the outdoors. the dog was flipping out in the suv on the way to the\n",
    "path because she knew was a kick-ass day she was about to have breaking out of her normally lame, domesticated dog life. my friends decided to\n",
    "drink during the off-roading adventure, which was fine because i volunteered to drive since i cannot drink alcohol (mouth is wired shut [long story\n",
    "but i can’t drink alcohol for a while]) so we were playing it safe. the dog couldn’t be any happier and was about to jump out of the truck (literally)\n",
    "when we got there so the dog’s owner let her get out and run along side of us while we drove the dirt road up to the destination for the fire. as i was\n",
    "driving, the dog went in and out of vision, mostly biting the tires as most dogs do, playing around. the owner kept asking us (the two guys up front)\n",
    "if we could see her. we said yes, and kept driving. as i was driving at no more than 5-10mph along the dirt road, i could hear the dog biting at the\n",
    "tires playfully, but we just laughed it off bc we thought she was having fun. the horrible, seconds-long event that ensued was me feeling the dreaded\n",
    "’double-thud’ under the tires and heard the dog yelp in pain. i instantly stopped the ... .\"\"\"\n",
    "]\n",
    "\n",
    "\n",
    "batch = tokenizer.prepare_seq2seq_batch(src_text, truncation=True, padding='longest', return_tensors='pt').to(torch_device)\n",
    "translated = model.generate(**batch)\n",
    "tgt_text = tokenizer.batch_decode(translated, skip_special_tokens=True)\n",
    "print(tgt_text)"
   ]
  },
  {
   "cell_type": "code",
   "execution_count": null,
   "metadata": {},
   "outputs": [],
   "source": []
  }
 ],
 "metadata": {
  "kernelspec": {
   "display_name": "Python 3",
   "language": "python",
   "name": "python3"
  },
  "language_info": {
   "codemirror_mode": {
    "name": "ipython",
    "version": 3
   },
   "file_extension": ".py",
   "mimetype": "text/x-python",
   "name": "python",
   "nbconvert_exporter": "python",
   "pygments_lexer": "ipython3",
   "version": "3.8.8"
  }
 },
 "nbformat": 4,
 "nbformat_minor": 4
}
