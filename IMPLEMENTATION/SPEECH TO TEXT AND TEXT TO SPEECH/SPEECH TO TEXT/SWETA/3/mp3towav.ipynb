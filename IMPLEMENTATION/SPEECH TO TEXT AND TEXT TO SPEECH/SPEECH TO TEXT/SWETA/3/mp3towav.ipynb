{
 "cells": [
  {
   "cell_type": "code",
   "execution_count": 1,
   "id": "4ee27b8a",
   "metadata": {},
   "outputs": [
    {
     "data": {
      "text/plain": [
       "<_io.BufferedRandom name='speech1.wav'>"
      ]
     },
     "execution_count": 1,
     "metadata": {},
     "output_type": "execute_result"
    }
   ],
   "source": [
    "from pydub import AudioSegment\n",
    "# audio_file_name = \"speech.mp3\"\n",
    "sound = AudioSegment.from_mp3(\"speech.mp3\")\n",
    "\n",
    "sound.export(\"speech1.wav\", format=\"wav\")"
   ]
  },
  {
   "cell_type": "code",
   "execution_count": 3,
   "id": "b06356db",
   "metadata": {},
   "outputs": [
    {
     "name": "stdout",
     "output_type": "stream",
     "text": [
      "hello friend welcome to our channel Apne Ham Khud dashing today's we will learn speech on Mahatma Gandhi good morning to respected principal teachers and my dear friend today I will speak on Mahatma Gandhi Mahatma Gandhi was born on 2nd October 1869 in Porbandar Gujarat in Hindu family father Karamchand Gandhi all Chief Minister of Porbandar she was the greatest freedom fighter he is also called father of the nation or rashtrapita ki always a simple dhoti made from Khadi ki believed in simple living and high thinking he started non cooperation and non violence movement to get freedom from British Cruel and his able guidance India became free on 15th August 1947 this great leader of our country died on 13th January 1948 people from all the religious love and respected him thank you\n"
     ]
    }
   ],
   "source": [
    "import speech_recognition as sr\n",
    "filename=\"speech1.wav\"\n",
    "r=sr.Recognizer()\n",
    "with sr.AudioFile(filename)as source:\n",
    "    audio_data=r.record(source)\n",
    "    text=r.recognize_google(audio_data)\n",
    "    print(text)"
   ]
  },
  {
   "cell_type": "code",
   "execution_count": null,
   "id": "aebcc03a",
   "metadata": {},
   "outputs": [],
   "source": []
  }
 ],
 "metadata": {
  "kernelspec": {
   "display_name": "Python 3 (ipykernel)",
   "language": "python",
   "name": "python3"
  },
  "language_info": {
   "codemirror_mode": {
    "name": "ipython",
    "version": 3
   },
   "file_extension": ".py",
   "mimetype": "text/x-python",
   "name": "python",
   "nbconvert_exporter": "python",
   "pygments_lexer": "ipython3",
   "version": "3.9.5"
  }
 },
 "nbformat": 4,
 "nbformat_minor": 5
}
