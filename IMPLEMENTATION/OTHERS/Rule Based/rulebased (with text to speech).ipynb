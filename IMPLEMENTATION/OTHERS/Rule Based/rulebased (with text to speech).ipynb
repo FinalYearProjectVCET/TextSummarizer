{
 "cells": [
  {
   "cell_type": "markdown",
   "metadata": {},
   "source": [
    "### Outline\n",
    "#### 1. Retrieve Text (Web Scraping)\n",
    "#### 2. Preprocessing\n",
    "#### 3. Extract Sentences\n"
   ]
  },
  {
   "cell_type": "code",
   "execution_count": 1,
   "metadata": {},
   "outputs": [
    {
     "ename": "UnknownValueError",
     "evalue": "",
     "output_type": "error",
     "traceback": [
      "\u001b[1;31m---------------------------------------------------------------------------\u001b[0m",
      "\u001b[1;31mUnknownValueError\u001b[0m                         Traceback (most recent call last)",
      "\u001b[1;32m~\\AppData\\Local\\Temp/ipykernel_25156/3056258064.py\u001b[0m in \u001b[0;36m<module>\u001b[1;34m\u001b[0m\n\u001b[0;32m     11\u001b[0m \u001b[1;32mwith\u001b[0m \u001b[0msr\u001b[0m\u001b[1;33m.\u001b[0m\u001b[0mAudioFile\u001b[0m\u001b[1;33m(\u001b[0m\u001b[0mfilename\u001b[0m\u001b[1;33m)\u001b[0m\u001b[1;32mas\u001b[0m \u001b[0msource\u001b[0m\u001b[1;33m:\u001b[0m\u001b[1;33m\u001b[0m\u001b[1;33m\u001b[0m\u001b[0m\n\u001b[0;32m     12\u001b[0m     \u001b[0maudio_data\u001b[0m\u001b[1;33m=\u001b[0m\u001b[0mr\u001b[0m\u001b[1;33m.\u001b[0m\u001b[0mrecord\u001b[0m\u001b[1;33m(\u001b[0m\u001b[0msource\u001b[0m\u001b[1;33m)\u001b[0m\u001b[1;33m\u001b[0m\u001b[1;33m\u001b[0m\u001b[0m\n\u001b[1;32m---> 13\u001b[1;33m     \u001b[0mtext\u001b[0m\u001b[1;33m=\u001b[0m\u001b[0mr\u001b[0m\u001b[1;33m.\u001b[0m\u001b[0mrecognize_google\u001b[0m\u001b[1;33m(\u001b[0m\u001b[0maudio_data\u001b[0m\u001b[1;33m)\u001b[0m\u001b[1;33m\u001b[0m\u001b[1;33m\u001b[0m\u001b[0m\n\u001b[0m\u001b[0;32m     14\u001b[0m     \u001b[0mprint\u001b[0m\u001b[1;33m(\u001b[0m\u001b[0mtext\u001b[0m\u001b[1;33m)\u001b[0m\u001b[1;33m\u001b[0m\u001b[1;33m\u001b[0m\u001b[0m\n",
      "\u001b[1;32mc:\\users\\yash\\appdata\\local\\programs\\python\\python39\\lib\\site-packages\\speech_recognition\\__init__.py\u001b[0m in \u001b[0;36mrecognize_google\u001b[1;34m(self, audio_data, key, language, show_all)\u001b[0m\n\u001b[0;32m    856\u001b[0m         \u001b[1;31m# return results\u001b[0m\u001b[1;33m\u001b[0m\u001b[1;33m\u001b[0m\u001b[1;33m\u001b[0m\u001b[0m\n\u001b[0;32m    857\u001b[0m         \u001b[1;32mif\u001b[0m \u001b[0mshow_all\u001b[0m\u001b[1;33m:\u001b[0m \u001b[1;32mreturn\u001b[0m \u001b[0mactual_result\u001b[0m\u001b[1;33m\u001b[0m\u001b[1;33m\u001b[0m\u001b[0m\n\u001b[1;32m--> 858\u001b[1;33m         \u001b[1;32mif\u001b[0m \u001b[1;32mnot\u001b[0m \u001b[0misinstance\u001b[0m\u001b[1;33m(\u001b[0m\u001b[0mactual_result\u001b[0m\u001b[1;33m,\u001b[0m \u001b[0mdict\u001b[0m\u001b[1;33m)\u001b[0m \u001b[1;32mor\u001b[0m \u001b[0mlen\u001b[0m\u001b[1;33m(\u001b[0m\u001b[0mactual_result\u001b[0m\u001b[1;33m.\u001b[0m\u001b[0mget\u001b[0m\u001b[1;33m(\u001b[0m\u001b[1;34m\"alternative\"\u001b[0m\u001b[1;33m,\u001b[0m \u001b[1;33m[\u001b[0m\u001b[1;33m]\u001b[0m\u001b[1;33m)\u001b[0m\u001b[1;33m)\u001b[0m \u001b[1;33m==\u001b[0m \u001b[1;36m0\u001b[0m\u001b[1;33m:\u001b[0m \u001b[1;32mraise\u001b[0m \u001b[0mUnknownValueError\u001b[0m\u001b[1;33m(\u001b[0m\u001b[1;33m)\u001b[0m\u001b[1;33m\u001b[0m\u001b[1;33m\u001b[0m\u001b[0m\n\u001b[0m\u001b[0;32m    859\u001b[0m \u001b[1;33m\u001b[0m\u001b[0m\n\u001b[0;32m    860\u001b[0m         \u001b[1;32mif\u001b[0m \u001b[1;34m\"confidence\"\u001b[0m \u001b[1;32min\u001b[0m \u001b[0mactual_result\u001b[0m\u001b[1;33m[\u001b[0m\u001b[1;34m\"alternative\"\u001b[0m\u001b[1;33m]\u001b[0m\u001b[1;33m:\u001b[0m\u001b[1;33m\u001b[0m\u001b[1;33m\u001b[0m\u001b[0m\n",
      "\u001b[1;31mUnknownValueError\u001b[0m: "
     ]
    }
   ],
   "source": [
    "from pydub import AudioSegment\n",
    "audio_file_name = \"MAHATMA GANDHI SPEECH.mp3\"\n",
    "# sound = AudioSegment.from_mp3(\"record.mp3\")\n",
    "sound = AudioSegment.from_mp3(audio_file_name)\n",
    "\n",
    "audio_export = \"MAHATMA GANDHI SPEECH.wav\"\n",
    "sound.export(\"MAHATMA GANDHI SPEECH.wav\", format=\"wav\")\n",
    "\n",
    "import speech_recognition as sr\n",
    "filename=\"speech.wav\"\n",
    "r=sr.Recognizer()\n",
    "with sr.AudioFile(filename)as source:\n",
    "    audio_data=r.record(source)\n",
    "    text=r.recognize_google(audio_data)\n",
    "    print(text)"
   ]
  },
  {
   "cell_type": "code",
   "execution_count": null,
   "metadata": {},
   "outputs": [],
   "source": [
    "text=\"The movie starts off with a man in a coat and hat trying to defuse a bomb. He gets distracted by a gunshot and before the bomb can be safely defused, it blows up burning the face of the man in the coat and hat. Another person walks up to burnt man and helps him reach out to a violin case. The burnt man uses the violin box and disappears. There are three people in this scene. The man trying to defuse the bomb, this is John. The man who fires at John, this is the Fizzle bomber and the man who helps John with the violin case, this is the Barkeep. The point to be noted here is that they are all the same person from 3 different times. Don’t give it too much thought right now. Read on further.Burnt face man, John, goes back to a future time – 1992, and gets his face grafted. Since his face is completely destroyed, they give him a new face. This is the face that we will refer to as Barkeep. John/Barkeep has been trying to hunt down a chain bomber that they call the Fizzle bomber. He has been trying to stop a major New York event in 1975 which kills over 10,000 people, but has been unsuccessful so far. He is a temporal agent of a mysterious Temporal Bureau who have the ability to travel through time.Barkeep has one final mission he has to embark on now. For which he travels back to 1970 and plays the role of a barkeep. His younger self, John from 1970, arrives at the bar. They start talking. John reveals that he is the author – Unmarried Mother. John starts telling the story of his life where he was born a girl and was called Jane. Jane was a baby abandoned at an orphanage in 1945. Jane never ends up getting adopted and she eventually tries to join the Space Corps program headed by one Mr. Robertson. Jane gets rejected from the program because something in her physiology is “odd”. But they don’t tell her that when they disqualify her. They simply pin the disqualification on the fight Jane has with another girl in the Corp. This detail comes as a flashback later on in the movie.Jane gives up and attends night school where she bumps into a stranger. She falls in love with him, but the stranger disappears on Jane one day, leaving her waiting on a bench. We will get back to who this stranger is in a bit. Jane realizes that she is pregnant. She delivers a baby successfully but the doctor tells her that Jane has an “odd” physiology – she has fully formed male and female organs. Complications in delivery result in the doctors only being able to save the male organs. Jane will need to change to a man as a result. Soon after this, her baby gets stolen. Jane becomes John over time.John completes telling this story to the Barkeep. However, the Barkeep knows all of this. It is his own life’s story after all. He doesn’t reveal that yet. Barkeep tells John that he knows the location of the “stranger” who ruined Jane’s life. Barkeep promises that he will give John the opportunity of revenge, of killing that stranger free of any consequences. John and Barkeep use the violin box to travel back in time to the point where Jane was attending night school. John equips himself with a gun and goes looking for the stranger but bumps into Jane. John soon realizes that he is that “stranger”. He falls in love with Jane and has sex with her.Yes, folks, the male self goes back in time when he was female and has sex with him/herself. Bizarre, we now know another one of those things that is apparently possible in this universe of the film. Talk about self-sufficient! Hang on, there is more to come.While all of this is happening, Barkeep quietly slips out and goes forward to 1970 – to the event of the bomb defusal, the first scene of the movie. Barkeep arrives to notice the Fizzle bomber placing the bomb; they get into a gunfight, then into a fist fight. Barkeep gets his ass handed to him and faints. He wakes up just in time to see John’s face getting burnt trying to defuse the bomb. Barkeep helps John with the violin box. The Fizzle bomber escapes.Barkeep heads to the time when Jane has given birth. Mr. Robertson joins him there. It is shown that he too has a little violin box of his own and can travel through time, he seems to head the Temporal Bureau. Barkeep steals Jane’s baby and travels back to 1945 with the baby. He abandons the baby at the orphanage.Yep, not only does the male from a future time has sex with his past girl self, the baby born as a result is the origin of him/herself too. Messed up right? That is truly self-sufficient indeed! This also explains why the baby would grow with both sex organs. Ladies and gentlemen, that’s your predestination and bootstrap paradox right there. Jane/John is a self-created entity because the “he” from a future time has sex with the “she” from a past time.Once Barkeep leaves the baby, he returns to the time John and Jane are still together. He signals for John, John leaves Jane waiting on the bench. Barkeep tells John that they need to leave this time and travel forward. At this point Barkeep tells John that he too is John from a future time with a different face – however, in the movie, this portion is disclosed only in the end. Barkeep and John travel forward to 1985. Barkeep meets Mr. Robertson and leaves John to recover there and travels back to 1975 for retirement. By now Barkeep has made an audio recording for John to hear and follow. Barkeep heads off to 1975 (just before the New York event date).John recovers from the shock of the truth and uses the tape left to him by Barkeep to prep to become a temporal agent. Seven years later, in 1992, John jumps back to 1970 wearing a coat and a hat to defuse a bomb set by the Fizzle bomber. John gets into a gunfight with the Fizzle bomber and ends up getting distracted. The bomb goes off burning John’s face.There you have it. That explains why in the first scene of the movie you have 3 people – John, Barkeep and Fizzle bomber who are the same person from 3 different times.\""
   ]
  },
  {
   "cell_type": "code",
   "execution_count": null,
   "metadata": {},
   "outputs": [],
   "source": [
    "text"
   ]
  },
  {
   "cell_type": "code",
   "execution_count": null,
   "metadata": {},
   "outputs": [],
   "source": [
    "text.encode('ascii',errors='replace').decode('utf-8').replace('?',' ')"
   ]
  },
  {
   "cell_type": "markdown",
   "metadata": {},
   "source": [
    "### 2. Preprocessing"
   ]
  },
  {
   "cell_type": "code",
   "execution_count": null,
   "metadata": {},
   "outputs": [],
   "source": [
    "from nltk.corpus import stopwords\n",
    "from string import punctuation\n",
    "Cstopwords=set(stopwords.words('english')+list(punctuation))"
   ]
  },
  {
   "cell_type": "markdown",
   "metadata": {},
   "source": [
    "Removing stopwords"
   ]
  },
  {
   "cell_type": "code",
   "execution_count": null,
   "metadata": {},
   "outputs": [],
   "source": [
    "from nltk.tokenize import word_tokenize\n",
    "words=[w for w in word_tokenize(text.lower()) if w not in Cstopwords]\n"
   ]
  },
  {
   "cell_type": "markdown",
   "metadata": {},
   "source": [
    "### 3. Extract Sentences"
   ]
  },
  {
   "cell_type": "markdown",
   "metadata": {},
   "source": [
    "* Abstract Extraction:- A rule based approach for text summarization"
   ]
  },
  {
   "cell_type": "markdown",
   "metadata": {},
   "source": [
    "Steps:-\n",
    "1. Find the most important word<br>\n",
    "word importance= word frequency\n",
    "2. Compute a significance score for sentences based on words they contain.<br>\n",
    "significance score=sum(word importance)\n",
    "3. Pick the top most significant sentences"
   ]
  },
  {
   "cell_type": "markdown",
   "metadata": {},
   "source": [
    "Frequency distribution of words"
   ]
  },
  {
   "cell_type": "code",
   "execution_count": null,
   "metadata": {},
   "outputs": [],
   "source": [
    "from nltk.probability import FreqDist\n",
    "dist=FreqDist(words)"
   ]
  },
  {
   "cell_type": "code",
   "execution_count": null,
   "metadata": {},
   "outputs": [],
   "source": [
    "dist.keys()"
   ]
  },
  {
   "cell_type": "code",
   "execution_count": null,
   "metadata": {},
   "outputs": [],
   "source": [
    "dist['mission']"
   ]
  },
  {
   "cell_type": "markdown",
   "metadata": {},
   "source": [
    "Top ten most frequent words in this article"
   ]
  },
  {
   "cell_type": "code",
   "execution_count": null,
   "metadata": {},
   "outputs": [],
   "source": [
    "dist.most_common(n=10)"
   ]
  },
  {
   "cell_type": "code",
   "execution_count": null,
   "metadata": {},
   "outputs": [],
   "source": [
    "from heapq import nlargest\n",
    "nlargest(10, dist, key=dist.get)"
   ]
  },
  {
   "cell_type": "markdown",
   "metadata": {},
   "source": [
    "Alternate method"
   ]
  },
  {
   "cell_type": "code",
   "execution_count": null,
   "metadata": {},
   "outputs": [],
   "source": [
    "#top ten most common words\n",
    "sorted(dist,key=dist.get,reverse=True)[:10]"
   ]
  },
  {
   "cell_type": "markdown",
   "metadata": {},
   "source": [
    "* Computing significance score"
   ]
  },
  {
   "cell_type": "markdown",
   "metadata": {},
   "source": [
    "Spliting the article into sentences"
   ]
  },
  {
   "cell_type": "code",
   "execution_count": null,
   "metadata": {},
   "outputs": [],
   "source": [
    "from nltk.tokenize import sent_tokenize\n",
    "word_sents=sent_tokenize(text)\n",
    "len(word_sents)"
   ]
  },
  {
   "cell_type": "markdown",
   "metadata": {},
   "source": [
    "Creating dictionary with <br>\n",
    "keys-> Sentences<br>\n",
    "Values-> Significance Scores"
   ]
  },
  {
   "cell_type": "markdown",
   "metadata": {},
   "source": [
    "defaultdict is special type of dict. It will not through an error if the key is not present, it will simply add a new key to dictionary.<br>\n",
    "If you lookup a non-existent key, it's added to the dictionary"
   ]
  },
  {
   "cell_type": "code",
   "execution_count": null,
   "metadata": {},
   "outputs": [],
   "source": [
    "from collections import defaultdict\n",
    "ranking = defaultdict(int)\n",
    "\n",
    "for i,sent in enumerate(word_sents):\n",
    "    #print(i,sent)\n",
    "    for w in word_tokenize(sent.lower()):\n",
    "        if w in dist:\n",
    "            ranking[i] += dist[w]\n",
    "            \n",
    "ranking\n",
    "    "
   ]
  },
  {
   "cell_type": "markdown",
   "metadata": {},
   "source": [
    "Top 4 sentences based on significance score"
   ]
  },
  {
   "cell_type": "code",
   "execution_count": null,
   "metadata": {},
   "outputs": [],
   "source": [
    "sents_idx = nlargest(10, ranking, key=ranking.get)\n",
    "sents_idx"
   ]
  },
  {
   "cell_type": "code",
   "execution_count": null,
   "metadata": {},
   "outputs": [],
   "source": [
    "[word_sents[j] for j in sorted(sents_idx)]"
   ]
  },
  {
   "cell_type": "markdown",
   "metadata": {},
   "source": [
    "## Final take away"
   ]
  },
  {
   "cell_type": "code",
   "execution_count": null,
   "metadata": {},
   "outputs": [],
   "source": [
    "import urllib\n",
    "from bs4 import BeautifulSoup\n",
    "from nltk.corpus import stopwords\n",
    "from nltk.tokenize import word_tokenize,sent_tokenize\n",
    "from string import punctuation\n",
    "from nltk.probability import FreqDist\n",
    "from heapq import nlargest\n",
    "from collections import defaultdict\n",
    "def getTextfromurl(text):\n",
    "    text = 'The movie starts off with a man in a coat and hat trying to defuse a bomb. He gets distracted by a gunshot and before the bomb can be safely defused, it blows up burning the face of the man in the coat and hat. Another person walks up to burnt man and helps him reach out to a violin case. The burnt man uses the violin box and disappears. There are three people in this scene. The man trying to defuse the bomb, this is John. The man who fires at John, this is the Fizzle bomber and the man who helps John with the violin case, this is the Barkeep. The point to be noted here is that they are all the same person from 3 different times. Don’t give it too much thought right now. Read on further.Burnt face man, John, goes back to a future time – 1992, and gets his face grafted. Since his face is completely destroyed, they give him a new face. This is the face that we will refer to as Barkeep. John/Barkeep has been trying to hunt down a chain bomber that they call the Fizzle bomber. He has been trying to stop a major New York event in 1975 which kills over 10,000 people, but has been unsuccessful so far. He is a temporal agent of a mysterious Temporal Bureau who have the ability to travel through time.Barkeep has one final mission he has to embark on now. For which he travels back to 1970 and plays the role of a barkeep. His younger self, John from 1970, arrives at the bar. They start talking. John reveals that he is the author – Unmarried Mother. John starts telling the story of his life where he was born a girl and was called Jane. Jane was a baby abandoned at an orphanage in 1945. Jane never ends up getting adopted and she eventually tries to join the Space Corps program headed by one Mr. Robertson. Jane gets rejected from the program because something in her physiology is “odd”. But they don’t tell her that when they disqualify her. They simply pin the disqualification on the fight Jane has with another girl in the Corp. This detail comes as a flashback later on in the movie.Jane gives up and attends night school where she bumps into a stranger. She falls in love with him, but the stranger disappears on Jane one day, leaving her waiting on a bench. We will get back to who this stranger is in a bit. Jane realizes that she is pregnant. She delivers a baby successfully but the doctor tells her that Jane has an “odd” physiology – she has fully formed male and female organs. Complications in delivery result in the doctors only being able to save the male organs. Jane will need to change to a man as a result. Soon after this, her baby gets stolen. Jane becomes John over time.John completes telling this story to the Barkeep. However, the Barkeep knows all of this. It is his own life’s story after all. He doesn’t reveal that yet. Barkeep tells John that he knows the location of the “stranger” who ruined Jane’s life. Barkeep promises that he will give John the opportunity of revenge, of killing that stranger free of any consequences. John and Barkeep use the violin box to travel back in time to the point where Jane was attending night school. John equips himself with a gun and goes looking for the stranger but bumps into Jane. John soon realizes that he is that “stranger”. He falls in love with Jane and has sex with her.Yes, folks, the male self goes back in time when he was female and has sex with him/herself. Bizarre, we now know another one of those things that is apparently possible in this universe of the film. Talk about self-sufficient! Hang on, there is more to come.While all of this is happening, Barkeep quietly slips out and goes forward to 1970 – to the event of the bomb defusal, the first scene of the movie. Barkeep arrives to notice the Fizzle bomber placing the bomb; they get into a gunfight, then into a fist fight. Barkeep gets his ass handed to him and faints. He wakes up just in time to see John’s face getting burnt trying to defuse the bomb. Barkeep helps John with the violin box. The Fizzle bomber escapes.Barkeep heads to the time when Jane has given birth. Mr. Robertson joins him there. It is shown that he too has a little violin box of his own and can travel through time, he seems to head the Temporal Bureau. Barkeep steals Jane’s baby and travels back to 1945 with the baby. He abandons the baby at the orphanage.Yep, not only does the male from a future time has sex with his past girl self, the baby born as a result is the origin of him/herself too. Messed up right? That is truly self-sufficient indeed! This also explains why the baby would grow with both sex organs. Ladies and gentlemen, that’s your predestination and bootstrap paradox right there. Jane/John is a self-created entity because the “he” from a future time has sex with the “she” from a past time.Once Barkeep leaves the baby, he returns to the time John and Jane are still together. He signals for John, John leaves Jane waiting on the bench. Barkeep tells John that they need to leave this time and travel forward. At this point Barkeep tells John that he too is John from a future time with a different face – however, in the movie, this portion is disclosed only in the end. Barkeep and John travel forward to 1985. Barkeep meets Mr. Robertson and leaves John to recover there and travels back to 1975 for retirement. By now Barkeep has made an audio recording for John to hear and follow. Barkeep heads off to 1975 (just before the New York event date).John recovers from the shock of the truth and uses the tape left to him by Barkeep to prep to become a temporal agent. Seven years later, in 1992, John jumps back to 1970 wearing a coat and a hat to defuse a bomb set by the Fizzle bomber. John gets into a gunfight with the Fizzle bomber and ends up getting distracted. The bomb goes off burning John’s face.There you have it. That explains why in the first scene of the movie you have 3 people – John, Barkeep and Fizzle bomber who are the same person from 3 different times. '\n",
    "    return text.encode('ascii', errors='replace').decode('utf-8').replace(\"?\",\" \")\n",
    "\n",
    "def summarize(text, n):\n",
    "    sents = sent_tokenize(text)\n",
    "    \n",
    "    assert n <= len(sents)\n",
    "    word_sent = word_tokenize(text.lower())\n",
    "    _stopwords = set(stopwords.words('english') + list(punctuation))\n",
    "    \n",
    "    word_sent=[word for word in word_sent if word not in _stopwords]\n",
    "    freq = FreqDist(word_sent)\n",
    "    \n",
    "    \n",
    "    ranking = defaultdict(int)\n",
    "    \n",
    "    for i,sent in enumerate(sents):\n",
    "        for w in word_tokenize(sent.lower()):\n",
    "            if w in freq:\n",
    "                ranking[i] += freq[w]\n",
    "             \n",
    "        \n",
    "    sents_idx = nlargest(n, ranking, key=ranking.get)\n",
    "    return [sents[j] for j in sorted(sents_idx)]"
   ]
  },
  {
   "cell_type": "code",
   "execution_count": null,
   "metadata": {},
   "outputs": [],
   "source": [
    "summarize(text,3)"
   ]
  }
 ],
 "metadata": {
  "kernelspec": {
   "display_name": "Python 3 (ipykernel)",
   "language": "python",
   "name": "python3"
  },
  "language_info": {
   "codemirror_mode": {
    "name": "ipython",
    "version": 3
   },
   "file_extension": ".py",
   "mimetype": "text/x-python",
   "name": "python",
   "nbconvert_exporter": "python",
   "pygments_lexer": "ipython3",
   "version": "3.9.5"
  }
 },
 "nbformat": 4,
 "nbformat_minor": 2
}
